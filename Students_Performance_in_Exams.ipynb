{
  "cells": [
    {
      "cell_type": "markdown",
      "metadata": {
        "id": "-ImbQmcl_527"
      },
      "source": [
        "Students Performance in Exams\n",
        "\n"
      ]
    },
    {
      "cell_type": "code",
      "execution_count": 1,
      "metadata": {
        "id": "syeWLmnk_52_"
      },
      "outputs": [],
      "source": [
        "# Se inicia con las importaciones de paquetes necesarios\n",
        "import pandas as pd\n",
        "import matplotlib.pyplot as plt\n",
        "import seaborn as sns"
      ]
    },
    {
      "cell_type": "code",
      "source": [
        "# Leeremos el Dataset desde el archivo .csv desgargado con el link provisto en el email del challenge de Universiddad Siglo 21"
      ],
      "metadata": {
        "id": "8hQTt9yqLilv"
      },
      "execution_count": 2,
      "outputs": []
    },
    {
      "cell_type": "code",
      "execution_count": 3,
      "metadata": {
        "id": "sE1Ka7EK_53A"
      },
      "outputs": [],
      "source": [
        "df = pd.read_csv(\"StudentsPerformance.csv\")\n"
      ]
    },
    {
      "cell_type": "code",
      "source": [
        "# Parte 1: Análisis y Preparación de Datos"
      ],
      "metadata": {
        "id": "VhorF1HHayUe"
      },
      "execution_count": 4,
      "outputs": []
    },
    {
      "cell_type": "code",
      "source": [
        "## Análisis Exploratorio de Datos AED o EDA"
      ],
      "metadata": {
        "id": "qj2wOUzKa-Wv"
      },
      "execution_count": 4,
      "outputs": []
    },
    {
      "cell_type": "code",
      "execution_count": 5,
      "metadata": {
        "id": "2qA83Vkn_53A",
        "outputId": "06dd71f9-4e75-4696-e071-9eb6e0312aae",
        "colab": {
          "base_uri": "https://localhost:8080/",
          "height": 441
        }
      },
      "outputs": [
        {
          "output_type": "execute_result",
          "data": {
            "text/plain": [
              "     gender race/ethnicity parental level of education         lunch  \\\n",
              "0    female        group B           bachelor's degree      standard   \n",
              "1    female        group C                some college      standard   \n",
              "2    female        group B             master's degree      standard   \n",
              "3      male        group A          associate's degree  free/reduced   \n",
              "4      male        group C                some college      standard   \n",
              "..      ...            ...                         ...           ...   \n",
              "995  female        group E             master's degree      standard   \n",
              "996    male        group C                 high school  free/reduced   \n",
              "997  female        group C                 high school  free/reduced   \n",
              "998  female        group D                some college      standard   \n",
              "999  female        group D                some college  free/reduced   \n",
              "\n",
              "    test preparation course  math score  reading score  writing score  \n",
              "0                      none          72             72             74  \n",
              "1                 completed          69             90             88  \n",
              "2                      none          90             95             93  \n",
              "3                      none          47             57             44  \n",
              "4                      none          76             78             75  \n",
              "..                      ...         ...            ...            ...  \n",
              "995               completed          88             99             95  \n",
              "996                    none          62             55             55  \n",
              "997               completed          59             71             65  \n",
              "998               completed          68             78             77  \n",
              "999                    none          77             86             86  \n",
              "\n",
              "[1000 rows x 8 columns]"
            ],
            "text/html": [
              "\n",
              "  <div id=\"df-9b9a94a1-7b6f-49f6-a713-9f1535521f4c\" class=\"colab-df-container\">\n",
              "    <div>\n",
              "<style scoped>\n",
              "    .dataframe tbody tr th:only-of-type {\n",
              "        vertical-align: middle;\n",
              "    }\n",
              "\n",
              "    .dataframe tbody tr th {\n",
              "        vertical-align: top;\n",
              "    }\n",
              "\n",
              "    .dataframe thead th {\n",
              "        text-align: right;\n",
              "    }\n",
              "</style>\n",
              "<table border=\"1\" class=\"dataframe\">\n",
              "  <thead>\n",
              "    <tr style=\"text-align: right;\">\n",
              "      <th></th>\n",
              "      <th>gender</th>\n",
              "      <th>race/ethnicity</th>\n",
              "      <th>parental level of education</th>\n",
              "      <th>lunch</th>\n",
              "      <th>test preparation course</th>\n",
              "      <th>math score</th>\n",
              "      <th>reading score</th>\n",
              "      <th>writing score</th>\n",
              "    </tr>\n",
              "  </thead>\n",
              "  <tbody>\n",
              "    <tr>\n",
              "      <th>0</th>\n",
              "      <td>female</td>\n",
              "      <td>group B</td>\n",
              "      <td>bachelor's degree</td>\n",
              "      <td>standard</td>\n",
              "      <td>none</td>\n",
              "      <td>72</td>\n",
              "      <td>72</td>\n",
              "      <td>74</td>\n",
              "    </tr>\n",
              "    <tr>\n",
              "      <th>1</th>\n",
              "      <td>female</td>\n",
              "      <td>group C</td>\n",
              "      <td>some college</td>\n",
              "      <td>standard</td>\n",
              "      <td>completed</td>\n",
              "      <td>69</td>\n",
              "      <td>90</td>\n",
              "      <td>88</td>\n",
              "    </tr>\n",
              "    <tr>\n",
              "      <th>2</th>\n",
              "      <td>female</td>\n",
              "      <td>group B</td>\n",
              "      <td>master's degree</td>\n",
              "      <td>standard</td>\n",
              "      <td>none</td>\n",
              "      <td>90</td>\n",
              "      <td>95</td>\n",
              "      <td>93</td>\n",
              "    </tr>\n",
              "    <tr>\n",
              "      <th>3</th>\n",
              "      <td>male</td>\n",
              "      <td>group A</td>\n",
              "      <td>associate's degree</td>\n",
              "      <td>free/reduced</td>\n",
              "      <td>none</td>\n",
              "      <td>47</td>\n",
              "      <td>57</td>\n",
              "      <td>44</td>\n",
              "    </tr>\n",
              "    <tr>\n",
              "      <th>4</th>\n",
              "      <td>male</td>\n",
              "      <td>group C</td>\n",
              "      <td>some college</td>\n",
              "      <td>standard</td>\n",
              "      <td>none</td>\n",
              "      <td>76</td>\n",
              "      <td>78</td>\n",
              "      <td>75</td>\n",
              "    </tr>\n",
              "    <tr>\n",
              "      <th>...</th>\n",
              "      <td>...</td>\n",
              "      <td>...</td>\n",
              "      <td>...</td>\n",
              "      <td>...</td>\n",
              "      <td>...</td>\n",
              "      <td>...</td>\n",
              "      <td>...</td>\n",
              "      <td>...</td>\n",
              "    </tr>\n",
              "    <tr>\n",
              "      <th>995</th>\n",
              "      <td>female</td>\n",
              "      <td>group E</td>\n",
              "      <td>master's degree</td>\n",
              "      <td>standard</td>\n",
              "      <td>completed</td>\n",
              "      <td>88</td>\n",
              "      <td>99</td>\n",
              "      <td>95</td>\n",
              "    </tr>\n",
              "    <tr>\n",
              "      <th>996</th>\n",
              "      <td>male</td>\n",
              "      <td>group C</td>\n",
              "      <td>high school</td>\n",
              "      <td>free/reduced</td>\n",
              "      <td>none</td>\n",
              "      <td>62</td>\n",
              "      <td>55</td>\n",
              "      <td>55</td>\n",
              "    </tr>\n",
              "    <tr>\n",
              "      <th>997</th>\n",
              "      <td>female</td>\n",
              "      <td>group C</td>\n",
              "      <td>high school</td>\n",
              "      <td>free/reduced</td>\n",
              "      <td>completed</td>\n",
              "      <td>59</td>\n",
              "      <td>71</td>\n",
              "      <td>65</td>\n",
              "    </tr>\n",
              "    <tr>\n",
              "      <th>998</th>\n",
              "      <td>female</td>\n",
              "      <td>group D</td>\n",
              "      <td>some college</td>\n",
              "      <td>standard</td>\n",
              "      <td>completed</td>\n",
              "      <td>68</td>\n",
              "      <td>78</td>\n",
              "      <td>77</td>\n",
              "    </tr>\n",
              "    <tr>\n",
              "      <th>999</th>\n",
              "      <td>female</td>\n",
              "      <td>group D</td>\n",
              "      <td>some college</td>\n",
              "      <td>free/reduced</td>\n",
              "      <td>none</td>\n",
              "      <td>77</td>\n",
              "      <td>86</td>\n",
              "      <td>86</td>\n",
              "    </tr>\n",
              "  </tbody>\n",
              "</table>\n",
              "<p>1000 rows × 8 columns</p>\n",
              "</div>\n",
              "    <div class=\"colab-df-buttons\">\n",
              "\n",
              "  <div class=\"colab-df-container\">\n",
              "    <button class=\"colab-df-convert\" onclick=\"convertToInteractive('df-9b9a94a1-7b6f-49f6-a713-9f1535521f4c')\"\n",
              "            title=\"Convert this dataframe to an interactive table.\"\n",
              "            style=\"display:none;\">\n",
              "\n",
              "  <svg xmlns=\"http://www.w3.org/2000/svg\" height=\"24px\" viewBox=\"0 -960 960 960\">\n",
              "    <path d=\"M120-120v-720h720v720H120Zm60-500h600v-160H180v160Zm220 220h160v-160H400v160Zm0 220h160v-160H400v160ZM180-400h160v-160H180v160Zm440 0h160v-160H620v160ZM180-180h160v-160H180v160Zm440 0h160v-160H620v160Z\"/>\n",
              "  </svg>\n",
              "    </button>\n",
              "\n",
              "  <style>\n",
              "    .colab-df-container {\n",
              "      display:flex;\n",
              "      gap: 12px;\n",
              "    }\n",
              "\n",
              "    .colab-df-convert {\n",
              "      background-color: #E8F0FE;\n",
              "      border: none;\n",
              "      border-radius: 50%;\n",
              "      cursor: pointer;\n",
              "      display: none;\n",
              "      fill: #1967D2;\n",
              "      height: 32px;\n",
              "      padding: 0 0 0 0;\n",
              "      width: 32px;\n",
              "    }\n",
              "\n",
              "    .colab-df-convert:hover {\n",
              "      background-color: #E2EBFA;\n",
              "      box-shadow: 0px 1px 2px rgba(60, 64, 67, 0.3), 0px 1px 3px 1px rgba(60, 64, 67, 0.15);\n",
              "      fill: #174EA6;\n",
              "    }\n",
              "\n",
              "    .colab-df-buttons div {\n",
              "      margin-bottom: 4px;\n",
              "    }\n",
              "\n",
              "    [theme=dark] .colab-df-convert {\n",
              "      background-color: #3B4455;\n",
              "      fill: #D2E3FC;\n",
              "    }\n",
              "\n",
              "    [theme=dark] .colab-df-convert:hover {\n",
              "      background-color: #434B5C;\n",
              "      box-shadow: 0px 1px 3px 1px rgba(0, 0, 0, 0.15);\n",
              "      filter: drop-shadow(0px 1px 2px rgba(0, 0, 0, 0.3));\n",
              "      fill: #FFFFFF;\n",
              "    }\n",
              "  </style>\n",
              "\n",
              "    <script>\n",
              "      const buttonEl =\n",
              "        document.querySelector('#df-9b9a94a1-7b6f-49f6-a713-9f1535521f4c button.colab-df-convert');\n",
              "      buttonEl.style.display =\n",
              "        google.colab.kernel.accessAllowed ? 'block' : 'none';\n",
              "\n",
              "      async function convertToInteractive(key) {\n",
              "        const element = document.querySelector('#df-9b9a94a1-7b6f-49f6-a713-9f1535521f4c');\n",
              "        const dataTable =\n",
              "          await google.colab.kernel.invokeFunction('convertToInteractive',\n",
              "                                                    [key], {});\n",
              "        if (!dataTable) return;\n",
              "\n",
              "        const docLinkHtml = 'Like what you see? Visit the ' +\n",
              "          '<a target=\"_blank\" href=https://colab.research.google.com/notebooks/data_table.ipynb>data table notebook</a>'\n",
              "          + ' to learn more about interactive tables.';\n",
              "        element.innerHTML = '';\n",
              "        dataTable['output_type'] = 'display_data';\n",
              "        await google.colab.output.renderOutput(dataTable, element);\n",
              "        const docLink = document.createElement('div');\n",
              "        docLink.innerHTML = docLinkHtml;\n",
              "        element.appendChild(docLink);\n",
              "      }\n",
              "    </script>\n",
              "  </div>\n",
              "\n",
              "\n",
              "<div id=\"df-696d613f-882a-40ff-b0c4-ad30895f9d7e\">\n",
              "  <button class=\"colab-df-quickchart\" onclick=\"quickchart('df-696d613f-882a-40ff-b0c4-ad30895f9d7e')\"\n",
              "            title=\"Suggest charts.\"\n",
              "            style=\"display:none;\">\n",
              "\n",
              "<svg xmlns=\"http://www.w3.org/2000/svg\" height=\"24px\"viewBox=\"0 0 24 24\"\n",
              "     width=\"24px\">\n",
              "    <g>\n",
              "        <path d=\"M19 3H5c-1.1 0-2 .9-2 2v14c0 1.1.9 2 2 2h14c1.1 0 2-.9 2-2V5c0-1.1-.9-2-2-2zM9 17H7v-7h2v7zm4 0h-2V7h2v10zm4 0h-2v-4h2v4z\"/>\n",
              "    </g>\n",
              "</svg>\n",
              "  </button>\n",
              "\n",
              "<style>\n",
              "  .colab-df-quickchart {\n",
              "      --bg-color: #E8F0FE;\n",
              "      --fill-color: #1967D2;\n",
              "      --hover-bg-color: #E2EBFA;\n",
              "      --hover-fill-color: #174EA6;\n",
              "      --disabled-fill-color: #AAA;\n",
              "      --disabled-bg-color: #DDD;\n",
              "  }\n",
              "\n",
              "  [theme=dark] .colab-df-quickchart {\n",
              "      --bg-color: #3B4455;\n",
              "      --fill-color: #D2E3FC;\n",
              "      --hover-bg-color: #434B5C;\n",
              "      --hover-fill-color: #FFFFFF;\n",
              "      --disabled-bg-color: #3B4455;\n",
              "      --disabled-fill-color: #666;\n",
              "  }\n",
              "\n",
              "  .colab-df-quickchart {\n",
              "    background-color: var(--bg-color);\n",
              "    border: none;\n",
              "    border-radius: 50%;\n",
              "    cursor: pointer;\n",
              "    display: none;\n",
              "    fill: var(--fill-color);\n",
              "    height: 32px;\n",
              "    padding: 0;\n",
              "    width: 32px;\n",
              "  }\n",
              "\n",
              "  .colab-df-quickchart:hover {\n",
              "    background-color: var(--hover-bg-color);\n",
              "    box-shadow: 0 1px 2px rgba(60, 64, 67, 0.3), 0 1px 3px 1px rgba(60, 64, 67, 0.15);\n",
              "    fill: var(--button-hover-fill-color);\n",
              "  }\n",
              "\n",
              "  .colab-df-quickchart-complete:disabled,\n",
              "  .colab-df-quickchart-complete:disabled:hover {\n",
              "    background-color: var(--disabled-bg-color);\n",
              "    fill: var(--disabled-fill-color);\n",
              "    box-shadow: none;\n",
              "  }\n",
              "\n",
              "  .colab-df-spinner {\n",
              "    border: 2px solid var(--fill-color);\n",
              "    border-color: transparent;\n",
              "    border-bottom-color: var(--fill-color);\n",
              "    animation:\n",
              "      spin 1s steps(1) infinite;\n",
              "  }\n",
              "\n",
              "  @keyframes spin {\n",
              "    0% {\n",
              "      border-color: transparent;\n",
              "      border-bottom-color: var(--fill-color);\n",
              "      border-left-color: var(--fill-color);\n",
              "    }\n",
              "    20% {\n",
              "      border-color: transparent;\n",
              "      border-left-color: var(--fill-color);\n",
              "      border-top-color: var(--fill-color);\n",
              "    }\n",
              "    30% {\n",
              "      border-color: transparent;\n",
              "      border-left-color: var(--fill-color);\n",
              "      border-top-color: var(--fill-color);\n",
              "      border-right-color: var(--fill-color);\n",
              "    }\n",
              "    40% {\n",
              "      border-color: transparent;\n",
              "      border-right-color: var(--fill-color);\n",
              "      border-top-color: var(--fill-color);\n",
              "    }\n",
              "    60% {\n",
              "      border-color: transparent;\n",
              "      border-right-color: var(--fill-color);\n",
              "    }\n",
              "    80% {\n",
              "      border-color: transparent;\n",
              "      border-right-color: var(--fill-color);\n",
              "      border-bottom-color: var(--fill-color);\n",
              "    }\n",
              "    90% {\n",
              "      border-color: transparent;\n",
              "      border-bottom-color: var(--fill-color);\n",
              "    }\n",
              "  }\n",
              "</style>\n",
              "\n",
              "  <script>\n",
              "    async function quickchart(key) {\n",
              "      const quickchartButtonEl =\n",
              "        document.querySelector('#' + key + ' button');\n",
              "      quickchartButtonEl.disabled = true;  // To prevent multiple clicks.\n",
              "      quickchartButtonEl.classList.add('colab-df-spinner');\n",
              "      try {\n",
              "        const charts = await google.colab.kernel.invokeFunction(\n",
              "            'suggestCharts', [key], {});\n",
              "      } catch (error) {\n",
              "        console.error('Error during call to suggestCharts:', error);\n",
              "      }\n",
              "      quickchartButtonEl.classList.remove('colab-df-spinner');\n",
              "      quickchartButtonEl.classList.add('colab-df-quickchart-complete');\n",
              "    }\n",
              "    (() => {\n",
              "      let quickchartButtonEl =\n",
              "        document.querySelector('#df-696d613f-882a-40ff-b0c4-ad30895f9d7e button');\n",
              "      quickchartButtonEl.style.display =\n",
              "        google.colab.kernel.accessAllowed ? 'block' : 'none';\n",
              "    })();\n",
              "  </script>\n",
              "</div>\n",
              "    </div>\n",
              "  </div>\n"
            ]
          },
          "metadata": {},
          "execution_count": 5
        }
      ],
      "source": [
        "# Visualizo el dataset\n",
        "df"
      ]
    },
    {
      "cell_type": "code",
      "source": [
        "# Ver los nombres de las columnas:\n",
        "df.columns"
      ],
      "metadata": {
        "colab": {
          "base_uri": "https://localhost:8080/"
        },
        "id": "dFuvmNV-JZrg",
        "outputId": "21754c7e-f63c-4e93-91ad-fe78a4ac3f45"
      },
      "execution_count": 6,
      "outputs": [
        {
          "output_type": "execute_result",
          "data": {
            "text/plain": [
              "Index(['gender', 'race/ethnicity', 'parental level of education', 'lunch',\n",
              "       'test preparation course', 'math score', 'reading score',\n",
              "       'writing score'],\n",
              "      dtype='object')"
            ]
          },
          "metadata": {},
          "execution_count": 6
        }
      ]
    },
    {
      "cell_type": "code",
      "source": [
        "# Observar las métricas generales del dataset\n",
        "df.describe()"
      ],
      "metadata": {
        "id": "YmO_J8HKcIna",
        "colab": {
          "base_uri": "https://localhost:8080/",
          "height": 300
        },
        "outputId": "7d077e5a-e541-4da1-c055-f2d809dad695"
      },
      "execution_count": 7,
      "outputs": [
        {
          "output_type": "execute_result",
          "data": {
            "text/plain": [
              "       math score  reading score  writing score\n",
              "count  1000.00000    1000.000000    1000.000000\n",
              "mean     66.08900      69.169000      68.054000\n",
              "std      15.16308      14.600192      15.195657\n",
              "min       0.00000      17.000000      10.000000\n",
              "25%      57.00000      59.000000      57.750000\n",
              "50%      66.00000      70.000000      69.000000\n",
              "75%      77.00000      79.000000      79.000000\n",
              "max     100.00000     100.000000     100.000000"
            ],
            "text/html": [
              "\n",
              "  <div id=\"df-980d2f38-3d79-4d52-b402-4bc3274d0f8d\" class=\"colab-df-container\">\n",
              "    <div>\n",
              "<style scoped>\n",
              "    .dataframe tbody tr th:only-of-type {\n",
              "        vertical-align: middle;\n",
              "    }\n",
              "\n",
              "    .dataframe tbody tr th {\n",
              "        vertical-align: top;\n",
              "    }\n",
              "\n",
              "    .dataframe thead th {\n",
              "        text-align: right;\n",
              "    }\n",
              "</style>\n",
              "<table border=\"1\" class=\"dataframe\">\n",
              "  <thead>\n",
              "    <tr style=\"text-align: right;\">\n",
              "      <th></th>\n",
              "      <th>math score</th>\n",
              "      <th>reading score</th>\n",
              "      <th>writing score</th>\n",
              "    </tr>\n",
              "  </thead>\n",
              "  <tbody>\n",
              "    <tr>\n",
              "      <th>count</th>\n",
              "      <td>1000.00000</td>\n",
              "      <td>1000.000000</td>\n",
              "      <td>1000.000000</td>\n",
              "    </tr>\n",
              "    <tr>\n",
              "      <th>mean</th>\n",
              "      <td>66.08900</td>\n",
              "      <td>69.169000</td>\n",
              "      <td>68.054000</td>\n",
              "    </tr>\n",
              "    <tr>\n",
              "      <th>std</th>\n",
              "      <td>15.16308</td>\n",
              "      <td>14.600192</td>\n",
              "      <td>15.195657</td>\n",
              "    </tr>\n",
              "    <tr>\n",
              "      <th>min</th>\n",
              "      <td>0.00000</td>\n",
              "      <td>17.000000</td>\n",
              "      <td>10.000000</td>\n",
              "    </tr>\n",
              "    <tr>\n",
              "      <th>25%</th>\n",
              "      <td>57.00000</td>\n",
              "      <td>59.000000</td>\n",
              "      <td>57.750000</td>\n",
              "    </tr>\n",
              "    <tr>\n",
              "      <th>50%</th>\n",
              "      <td>66.00000</td>\n",
              "      <td>70.000000</td>\n",
              "      <td>69.000000</td>\n",
              "    </tr>\n",
              "    <tr>\n",
              "      <th>75%</th>\n",
              "      <td>77.00000</td>\n",
              "      <td>79.000000</td>\n",
              "      <td>79.000000</td>\n",
              "    </tr>\n",
              "    <tr>\n",
              "      <th>max</th>\n",
              "      <td>100.00000</td>\n",
              "      <td>100.000000</td>\n",
              "      <td>100.000000</td>\n",
              "    </tr>\n",
              "  </tbody>\n",
              "</table>\n",
              "</div>\n",
              "    <div class=\"colab-df-buttons\">\n",
              "\n",
              "  <div class=\"colab-df-container\">\n",
              "    <button class=\"colab-df-convert\" onclick=\"convertToInteractive('df-980d2f38-3d79-4d52-b402-4bc3274d0f8d')\"\n",
              "            title=\"Convert this dataframe to an interactive table.\"\n",
              "            style=\"display:none;\">\n",
              "\n",
              "  <svg xmlns=\"http://www.w3.org/2000/svg\" height=\"24px\" viewBox=\"0 -960 960 960\">\n",
              "    <path d=\"M120-120v-720h720v720H120Zm60-500h600v-160H180v160Zm220 220h160v-160H400v160Zm0 220h160v-160H400v160ZM180-400h160v-160H180v160Zm440 0h160v-160H620v160ZM180-180h160v-160H180v160Zm440 0h160v-160H620v160Z\"/>\n",
              "  </svg>\n",
              "    </button>\n",
              "\n",
              "  <style>\n",
              "    .colab-df-container {\n",
              "      display:flex;\n",
              "      gap: 12px;\n",
              "    }\n",
              "\n",
              "    .colab-df-convert {\n",
              "      background-color: #E8F0FE;\n",
              "      border: none;\n",
              "      border-radius: 50%;\n",
              "      cursor: pointer;\n",
              "      display: none;\n",
              "      fill: #1967D2;\n",
              "      height: 32px;\n",
              "      padding: 0 0 0 0;\n",
              "      width: 32px;\n",
              "    }\n",
              "\n",
              "    .colab-df-convert:hover {\n",
              "      background-color: #E2EBFA;\n",
              "      box-shadow: 0px 1px 2px rgba(60, 64, 67, 0.3), 0px 1px 3px 1px rgba(60, 64, 67, 0.15);\n",
              "      fill: #174EA6;\n",
              "    }\n",
              "\n",
              "    .colab-df-buttons div {\n",
              "      margin-bottom: 4px;\n",
              "    }\n",
              "\n",
              "    [theme=dark] .colab-df-convert {\n",
              "      background-color: #3B4455;\n",
              "      fill: #D2E3FC;\n",
              "    }\n",
              "\n",
              "    [theme=dark] .colab-df-convert:hover {\n",
              "      background-color: #434B5C;\n",
              "      box-shadow: 0px 1px 3px 1px rgba(0, 0, 0, 0.15);\n",
              "      filter: drop-shadow(0px 1px 2px rgba(0, 0, 0, 0.3));\n",
              "      fill: #FFFFFF;\n",
              "    }\n",
              "  </style>\n",
              "\n",
              "    <script>\n",
              "      const buttonEl =\n",
              "        document.querySelector('#df-980d2f38-3d79-4d52-b402-4bc3274d0f8d button.colab-df-convert');\n",
              "      buttonEl.style.display =\n",
              "        google.colab.kernel.accessAllowed ? 'block' : 'none';\n",
              "\n",
              "      async function convertToInteractive(key) {\n",
              "        const element = document.querySelector('#df-980d2f38-3d79-4d52-b402-4bc3274d0f8d');\n",
              "        const dataTable =\n",
              "          await google.colab.kernel.invokeFunction('convertToInteractive',\n",
              "                                                    [key], {});\n",
              "        if (!dataTable) return;\n",
              "\n",
              "        const docLinkHtml = 'Like what you see? Visit the ' +\n",
              "          '<a target=\"_blank\" href=https://colab.research.google.com/notebooks/data_table.ipynb>data table notebook</a>'\n",
              "          + ' to learn more about interactive tables.';\n",
              "        element.innerHTML = '';\n",
              "        dataTable['output_type'] = 'display_data';\n",
              "        await google.colab.output.renderOutput(dataTable, element);\n",
              "        const docLink = document.createElement('div');\n",
              "        docLink.innerHTML = docLinkHtml;\n",
              "        element.appendChild(docLink);\n",
              "      }\n",
              "    </script>\n",
              "  </div>\n",
              "\n",
              "\n",
              "<div id=\"df-0568b1a3-69eb-40e3-9c43-58ae6937fc88\">\n",
              "  <button class=\"colab-df-quickchart\" onclick=\"quickchart('df-0568b1a3-69eb-40e3-9c43-58ae6937fc88')\"\n",
              "            title=\"Suggest charts.\"\n",
              "            style=\"display:none;\">\n",
              "\n",
              "<svg xmlns=\"http://www.w3.org/2000/svg\" height=\"24px\"viewBox=\"0 0 24 24\"\n",
              "     width=\"24px\">\n",
              "    <g>\n",
              "        <path d=\"M19 3H5c-1.1 0-2 .9-2 2v14c0 1.1.9 2 2 2h14c1.1 0 2-.9 2-2V5c0-1.1-.9-2-2-2zM9 17H7v-7h2v7zm4 0h-2V7h2v10zm4 0h-2v-4h2v4z\"/>\n",
              "    </g>\n",
              "</svg>\n",
              "  </button>\n",
              "\n",
              "<style>\n",
              "  .colab-df-quickchart {\n",
              "      --bg-color: #E8F0FE;\n",
              "      --fill-color: #1967D2;\n",
              "      --hover-bg-color: #E2EBFA;\n",
              "      --hover-fill-color: #174EA6;\n",
              "      --disabled-fill-color: #AAA;\n",
              "      --disabled-bg-color: #DDD;\n",
              "  }\n",
              "\n",
              "  [theme=dark] .colab-df-quickchart {\n",
              "      --bg-color: #3B4455;\n",
              "      --fill-color: #D2E3FC;\n",
              "      --hover-bg-color: #434B5C;\n",
              "      --hover-fill-color: #FFFFFF;\n",
              "      --disabled-bg-color: #3B4455;\n",
              "      --disabled-fill-color: #666;\n",
              "  }\n",
              "\n",
              "  .colab-df-quickchart {\n",
              "    background-color: var(--bg-color);\n",
              "    border: none;\n",
              "    border-radius: 50%;\n",
              "    cursor: pointer;\n",
              "    display: none;\n",
              "    fill: var(--fill-color);\n",
              "    height: 32px;\n",
              "    padding: 0;\n",
              "    width: 32px;\n",
              "  }\n",
              "\n",
              "  .colab-df-quickchart:hover {\n",
              "    background-color: var(--hover-bg-color);\n",
              "    box-shadow: 0 1px 2px rgba(60, 64, 67, 0.3), 0 1px 3px 1px rgba(60, 64, 67, 0.15);\n",
              "    fill: var(--button-hover-fill-color);\n",
              "  }\n",
              "\n",
              "  .colab-df-quickchart-complete:disabled,\n",
              "  .colab-df-quickchart-complete:disabled:hover {\n",
              "    background-color: var(--disabled-bg-color);\n",
              "    fill: var(--disabled-fill-color);\n",
              "    box-shadow: none;\n",
              "  }\n",
              "\n",
              "  .colab-df-spinner {\n",
              "    border: 2px solid var(--fill-color);\n",
              "    border-color: transparent;\n",
              "    border-bottom-color: var(--fill-color);\n",
              "    animation:\n",
              "      spin 1s steps(1) infinite;\n",
              "  }\n",
              "\n",
              "  @keyframes spin {\n",
              "    0% {\n",
              "      border-color: transparent;\n",
              "      border-bottom-color: var(--fill-color);\n",
              "      border-left-color: var(--fill-color);\n",
              "    }\n",
              "    20% {\n",
              "      border-color: transparent;\n",
              "      border-left-color: var(--fill-color);\n",
              "      border-top-color: var(--fill-color);\n",
              "    }\n",
              "    30% {\n",
              "      border-color: transparent;\n",
              "      border-left-color: var(--fill-color);\n",
              "      border-top-color: var(--fill-color);\n",
              "      border-right-color: var(--fill-color);\n",
              "    }\n",
              "    40% {\n",
              "      border-color: transparent;\n",
              "      border-right-color: var(--fill-color);\n",
              "      border-top-color: var(--fill-color);\n",
              "    }\n",
              "    60% {\n",
              "      border-color: transparent;\n",
              "      border-right-color: var(--fill-color);\n",
              "    }\n",
              "    80% {\n",
              "      border-color: transparent;\n",
              "      border-right-color: var(--fill-color);\n",
              "      border-bottom-color: var(--fill-color);\n",
              "    }\n",
              "    90% {\n",
              "      border-color: transparent;\n",
              "      border-bottom-color: var(--fill-color);\n",
              "    }\n",
              "  }\n",
              "</style>\n",
              "\n",
              "  <script>\n",
              "    async function quickchart(key) {\n",
              "      const quickchartButtonEl =\n",
              "        document.querySelector('#' + key + ' button');\n",
              "      quickchartButtonEl.disabled = true;  // To prevent multiple clicks.\n",
              "      quickchartButtonEl.classList.add('colab-df-spinner');\n",
              "      try {\n",
              "        const charts = await google.colab.kernel.invokeFunction(\n",
              "            'suggestCharts', [key], {});\n",
              "      } catch (error) {\n",
              "        console.error('Error during call to suggestCharts:', error);\n",
              "      }\n",
              "      quickchartButtonEl.classList.remove('colab-df-spinner');\n",
              "      quickchartButtonEl.classList.add('colab-df-quickchart-complete');\n",
              "    }\n",
              "    (() => {\n",
              "      let quickchartButtonEl =\n",
              "        document.querySelector('#df-0568b1a3-69eb-40e3-9c43-58ae6937fc88 button');\n",
              "      quickchartButtonEl.style.display =\n",
              "        google.colab.kernel.accessAllowed ? 'block' : 'none';\n",
              "    })();\n",
              "  </script>\n",
              "</div>\n",
              "    </div>\n",
              "  </div>\n"
            ]
          },
          "metadata": {},
          "execution_count": 7
        }
      ]
    },
    {
      "cell_type": "code",
      "source": [
        "df.info()"
      ],
      "metadata": {
        "colab": {
          "base_uri": "https://localhost:8080/"
        },
        "id": "3LdEyP4uJiNE",
        "outputId": "c5815c87-b94a-4bbc-98dc-a76bafc816ff"
      },
      "execution_count": 8,
      "outputs": [
        {
          "output_type": "stream",
          "name": "stdout",
          "text": [
            "<class 'pandas.core.frame.DataFrame'>\n",
            "RangeIndex: 1000 entries, 0 to 999\n",
            "Data columns (total 8 columns):\n",
            " #   Column                       Non-Null Count  Dtype \n",
            "---  ------                       --------------  ----- \n",
            " 0   gender                       1000 non-null   object\n",
            " 1   race/ethnicity               1000 non-null   object\n",
            " 2   parental level of education  1000 non-null   object\n",
            " 3   lunch                        1000 non-null   object\n",
            " 4   test preparation course      1000 non-null   object\n",
            " 5   math score                   1000 non-null   int64 \n",
            " 6   reading score                1000 non-null   int64 \n",
            " 7   writing score                1000 non-null   int64 \n",
            "dtypes: int64(3), object(5)\n",
            "memory usage: 62.6+ KB\n"
          ]
        }
      ]
    },
    {
      "cell_type": "code",
      "source": [
        "df.shape"
      ],
      "metadata": {
        "colab": {
          "base_uri": "https://localhost:8080/"
        },
        "id": "oVe0FEuIp73V",
        "outputId": "800ff49b-29a8-4e9b-c972-81c18c83cc39"
      },
      "execution_count": 9,
      "outputs": [
        {
          "output_type": "execute_result",
          "data": {
            "text/plain": [
              "(1000, 8)"
            ]
          },
          "metadata": {},
          "execution_count": 9
        }
      ]
    },
    {
      "cell_type": "code",
      "source": [
        "# Luego de observar los tipos de valores de todas las columnas, deseamos ver aquellas columnas que tienen variables Categóricas es decir, nó numéricas, ya que más adelante requerirán un tratamiento diferente\n"
      ],
      "metadata": {
        "id": "rdBRxu5jcZJ-"
      },
      "execution_count": 10,
      "outputs": []
    },
    {
      "cell_type": "code",
      "execution_count": 11,
      "metadata": {
        "id": "sXSfE_k-_53B"
      },
      "outputs": [],
      "source": [
        "categorical_cols = df.select_dtypes(include='object').columns"
      ]
    },
    {
      "cell_type": "code",
      "execution_count": 12,
      "metadata": {
        "id": "LZtIjZa0_53C",
        "outputId": "0ca50caa-8e13-46f5-9592-1e3d0289a6af",
        "colab": {
          "base_uri": "https://localhost:8080/"
        }
      },
      "outputs": [
        {
          "output_type": "execute_result",
          "data": {
            "text/plain": [
              "Index(['gender', 'race/ethnicity', 'parental level of education', 'lunch',\n",
              "       'test preparation course'],\n",
              "      dtype='object')"
            ]
          },
          "metadata": {},
          "execution_count": 12
        }
      ],
      "source": [
        "categorical_cols"
      ]
    },
    {
      "cell_type": "code",
      "execution_count": 13,
      "metadata": {
        "id": "RbezJEe1_53C",
        "outputId": "2996b8dd-5034-4f34-aee1-f3abe0d9bf32",
        "colab": {
          "base_uri": "https://localhost:8080/"
        }
      },
      "outputs": [
        {
          "output_type": "stream",
          "name": "stdout",
          "text": [
            "['female' 'male']\n",
            "['group B' 'group C' 'group A' 'group D' 'group E']\n",
            "[\"bachelor's degree\" 'some college' \"master's degree\" \"associate's degree\"\n",
            " 'high school' 'some high school']\n",
            "['standard' 'free/reduced']\n",
            "['none' 'completed']\n"
          ]
        }
      ],
      "source": [
        "# Dentro de las columnas con variables Categóricas, buscamos ver los valores únicos que toman dichas variables para cada columna\n",
        "# De allí que realizamos un loop iterando dentro del listado de columnas categóricas y para cada columna observamos sus valores únicos o diferentes\n",
        "\n",
        "for i in categorical_cols:\n",
        "    print(df[i].unique())"
      ]
    },
    {
      "cell_type": "code",
      "source": [
        "# Pre-Procesamiento de Datos:"
      ],
      "metadata": {
        "id": "ZNwKE81AdooH"
      },
      "execution_count": 14,
      "outputs": []
    },
    {
      "cell_type": "code",
      "source": [
        "# Manejo de valores faltantes"
      ],
      "metadata": {
        "id": "7BLWZM6SePLL"
      },
      "execution_count": 15,
      "outputs": []
    },
    {
      "cell_type": "code",
      "execution_count": 16,
      "metadata": {
        "id": "jX89DP0R_53D",
        "outputId": "9a870d79-fef4-4d84-c0b7-b1bc6f0d896f",
        "colab": {
          "base_uri": "https://localhost:8080/"
        }
      },
      "outputs": [
        {
          "output_type": "execute_result",
          "data": {
            "text/plain": [
              "gender                         0\n",
              "race/ethnicity                 0\n",
              "parental level of education    0\n",
              "lunch                          0\n",
              "test preparation course        0\n",
              "math score                     0\n",
              "reading score                  0\n",
              "writing score                  0\n",
              "dtype: int64"
            ]
          },
          "metadata": {},
          "execution_count": 16
        }
      ],
      "source": [
        "df.isnull().sum()"
      ]
    },
    {
      "cell_type": "code",
      "execution_count": 17,
      "metadata": {
        "id": "JDqgM5Sf_53D"
      },
      "outputs": [],
      "source": [
        "# No hay valores faltantes ni nulos por lo que no hace falta mayor limpieza de datos"
      ]
    },
    {
      "cell_type": "code",
      "execution_count": 18,
      "metadata": {
        "id": "vxCcNWv9_53D",
        "outputId": "56c73560-e116-4366-aa04-8b63c24ab55e",
        "colab": {
          "base_uri": "https://localhost:8080/",
          "height": 410
        }
      },
      "outputs": [
        {
          "output_type": "display_data",
          "data": {
            "text/plain": [
              "<Figure size 600x400 with 1 Axes>"
            ],
            "image/png": "[encoded data removed]"
          },
          "metadata": {}
        }
      ],
      "source": [
        "# Visualizar la cantidad de hombres y mujeres dentro de la columna de género gender\n",
        "plt.figure(figsize=(6, 4))\n",
        "sns.countplot(x='gender', data=df)\n",
        "plt.title('Gender Distribution')\n",
        "plt.xlabel('Gender')\n",
        "plt.ylabel('Count')\n",
        "plt.show()\n",
        "\n"
      ]
    },
    {
      "cell_type": "code",
      "execution_count": 19,
      "metadata": {
        "id": "9q-Lxb6h_53E",
        "outputId": "3c8aa211-bdd6-4c7f-dbc8-d37a9a7cdc8b",
        "colab": {
          "base_uri": "https://localhost:8080/"
        }
      },
      "outputs": [
        {
          "output_type": "execute_result",
          "data": {
            "text/plain": [
              "none         642\n",
              "completed    358\n",
              "Name: test preparation course, dtype: int64"
            ]
          },
          "metadata": {},
          "execution_count": 19
        }
      ],
      "source": [
        "# Busco ver la cantidad de estudiantes que completaron cursos preparatorios\n",
        "count_test = df['test preparation course'].value_counts()\n",
        "count_test"
      ]
    },
    {
      "cell_type": "code",
      "source": [
        "# Visualizar como Gráfico de torta\n",
        "labels = df['test preparation course'].value_counts().index\n",
        "plt.figure(figsize= (7,7))\n",
        "plt.pie(count_test,labels=labels,autopct='%1.1f%%')\n",
        "plt.legend(labels)\n",
        "plt.show()"
      ],
      "metadata": {
        "colab": {
          "base_uri": "https://localhost:8080/",
          "height": 576
        },
        "id": "CAYov997Ut5s",
        "outputId": "9ebdb211-4149-4eab-d79c-06cc4cf47b1f"
      },
      "execution_count": 20,
      "outputs": [
        {
          "output_type": "display_data",
          "data": {
            "text/plain": [
              "<Figure size 700x700 with 1 Axes>"
            ],
            "image/png": "[encoded data removed]"
          },
          "metadata": {}
        }
      ]
    },
    {
      "cell_type": "code",
      "execution_count": 21,
      "metadata": {
        "id": "FXhnJ1s-_53E"
      },
      "outputs": [],
      "source": [
        "# Creo una nueva columna en el dataframe que sea el promedio de las puntuaciones en las 3 materias\n",
        "\n",
        "df['average_score']=(df['math score']+df['reading score']+df['writing score'])/3"
      ]
    },
    {
      "cell_type": "code",
      "execution_count": 22,
      "metadata": {
        "id": "3El_pfAZ_53E",
        "outputId": "6664a9ad-0ecf-4c31-b5df-fcb51dd38b9e",
        "colab": {
          "base_uri": "https://localhost:8080/",
          "height": 223
        }
      },
      "outputs": [
        {
          "output_type": "execute_result",
          "data": {
            "text/plain": [
              "   gender race/ethnicity parental level of education         lunch  \\\n",
              "0  female        group B           bachelor's degree      standard   \n",
              "1  female        group C                some college      standard   \n",
              "2  female        group B             master's degree      standard   \n",
              "3    male        group A          associate's degree  free/reduced   \n",
              "4    male        group C                some college      standard   \n",
              "\n",
              "  test preparation course  math score  reading score  writing score  \\\n",
              "0                    none          72             72             74   \n",
              "1               completed          69             90             88   \n",
              "2                    none          90             95             93   \n",
              "3                    none          47             57             44   \n",
              "4                    none          76             78             75   \n",
              "\n",
              "   average_score  \n",
              "0      72.666667  \n",
              "1      82.333333  \n",
              "2      92.666667  \n",
              "3      49.333333  \n",
              "4      76.333333  "
            ],
            "text/html": [
              "\n",
              "  <div id=\"df-dddfb322-3c32-4b0e-bbdc-6a25a1786375\" class=\"colab-df-container\">\n",
              "    <div>\n",
              "<style scoped>\n",
              "    .dataframe tbody tr th:only-of-type {\n",
              "        vertical-align: middle;\n",
              "    }\n",
              "\n",
              "    .dataframe tbody tr th {\n",
              "        vertical-align: top;\n",
              "    }\n",
              "\n",
              "    .dataframe thead th {\n",
              "        text-align: right;\n",
              "    }\n",
              "</style>\n",
              "<table border=\"1\" class=\"dataframe\">\n",
              "  <thead>\n",
              "    <tr style=\"text-align: right;\">\n",
              "      <th></th>\n",
              "      <th>gender</th>\n",
              "      <th>race/ethnicity</th>\n",
              "      <th>parental level of education</th>\n",
              "      <th>lunch</th>\n",
              "      <th>test preparation course</th>\n",
              "      <th>math score</th>\n",
              "      <th>reading score</th>\n",
              "      <th>writing score</th>\n",
              "      <th>average_score</th>\n",
              "    </tr>\n",
              "  </thead>\n",
              "  <tbody>\n",
              "    <tr>\n",
              "      <th>0</th>\n",
              "      <td>female</td>\n",
              "      <td>group B</td>\n",
              "      <td>bachelor's degree</td>\n",
              "      <td>standard</td>\n",
              "      <td>none</td>\n",
              "      <td>72</td>\n",
              "      <td>72</td>\n",
              "      <td>74</td>\n",
              "      <td>72.666667</td>\n",
              "    </tr>\n",
              "    <tr>\n",
              "      <th>1</th>\n",
              "      <td>female</td>\n",
              "      <td>group C</td>\n",
              "      <td>some college</td>\n",
              "      <td>standard</td>\n",
              "      <td>completed</td>\n",
              "      <td>69</td>\n",
              "      <td>90</td>\n",
              "      <td>88</td>\n",
              "      <td>82.333333</td>\n",
              "    </tr>\n",
              "    <tr>\n",
              "      <th>2</th>\n",
              "      <td>female</td>\n",
              "      <td>group B</td>\n",
              "      <td>master's degree</td>\n",
              "      <td>standard</td>\n",
              "      <td>none</td>\n",
              "      <td>90</td>\n",
              "      <td>95</td>\n",
              "      <td>93</td>\n",
              "      <td>92.666667</td>\n",
              "    </tr>\n",
              "    <tr>\n",
              "      <th>3</th>\n",
              "      <td>male</td>\n",
              "      <td>group A</td>\n",
              "      <td>associate's degree</td>\n",
              "      <td>free/reduced</td>\n",
              "      <td>none</td>\n",
              "      <td>47</td>\n",
              "      <td>57</td>\n",
              "      <td>44</td>\n",
              "      <td>49.333333</td>\n",
              "    </tr>\n",
              "    <tr>\n",
              "      <th>4</th>\n",
              "      <td>male</td>\n",
              "      <td>group C</td>\n",
              "      <td>some college</td>\n",
              "      <td>standard</td>\n",
              "      <td>none</td>\n",
              "      <td>76</td>\n",
              "      <td>78</td>\n",
              "      <td>75</td>\n",
              "      <td>76.333333</td>\n",
              "    </tr>\n",
              "  </tbody>\n",
              "</table>\n",
              "</div>\n",
              "    <div class=\"colab-df-buttons\">\n",
              "\n",
              "  <div class=\"colab-df-container\">\n",
              "    <button class=\"colab-df-convert\" onclick=\"convertToInteractive('df-dddfb322-3c32-4b0e-bbdc-6a25a1786375')\"\n",
              "            title=\"Convert this dataframe to an interactive table.\"\n",
              "            style=\"display:none;\">\n",
              "\n",
              "  <svg xmlns=\"http://www.w3.org/2000/svg\" height=\"24px\" viewBox=\"0 -960 960 960\">\n",
              "    <path d=\"M120-120v-720h720v720H120Zm60-500h600v-160H180v160Zm220 220h160v-160H400v160Zm0 220h160v-160H400v160ZM180-400h160v-160H180v160Zm440 0h160v-160H620v160ZM180-180h160v-160H180v160Zm440 0h160v-160H620v160Z\"/>\n",
              "  </svg>\n",
              "    </button>\n",
              "\n",
              "  <style>\n",
              "    .colab-df-container {\n",
              "      display:flex;\n",
              "      gap: 12px;\n",
              "    }\n",
              "\n",
              "    .colab-df-convert {\n",
              "      background-color: #E8F0FE;\n",
              "      border: none;\n",
              "      border-radius: 50%;\n",
              "      cursor: pointer;\n",
              "      display: none;\n",
              "      fill: #1967D2;\n",
              "      height: 32px;\n",
              "      padding: 0 0 0 0;\n",
              "      width: 32px;\n",
              "    }\n",
              "\n",
              "    .colab-df-convert:hover {\n",
              "      background-color: #E2EBFA;\n",
              "      box-shadow: 0px 1px 2px rgba(60, 64, 67, 0.3), 0px 1px 3px 1px rgba(60, 64, 67, 0.15);\n",
              "      fill: #174EA6;\n",
              "    }\n",
              "\n",
              "    .colab-df-buttons div {\n",
              "      margin-bottom: 4px;\n",
              "    }\n",
              "\n",
              "    [theme=dark] .colab-df-convert {\n",
              "      background-color: #3B4455;\n",
              "      fill: #D2E3FC;\n",
              "    }\n",
              "\n",
              "    [theme=dark] .colab-df-convert:hover {\n",
              "      background-color: #434B5C;\n",
              "      box-shadow: 0px 1px 3px 1px rgba(0, 0, 0, 0.15);\n",
              "      filter: drop-shadow(0px 1px 2px rgba(0, 0, 0, 0.3));\n",
              "      fill: #FFFFFF;\n",
              "    }\n",
              "  </style>\n",
              "\n",
              "    <script>\n",
              "      const buttonEl =\n",
              "        document.querySelector('#df-dddfb322-3c32-4b0e-bbdc-6a25a1786375 button.colab-df-convert');\n",
              "      buttonEl.style.display =\n",
              "        google.colab.kernel.accessAllowed ? 'block' : 'none';\n",
              "\n",
              "      async function convertToInteractive(key) {\n",
              "        const element = document.querySelector('#df-dddfb322-3c32-4b0e-bbdc-6a25a1786375');\n",
              "        const dataTable =\n",
              "          await google.colab.kernel.invokeFunction('convertToInteractive',\n",
              "                                                    [key], {});\n",
              "        if (!dataTable) return;\n",
              "\n",
              "        const docLinkHtml = 'Like what you see? Visit the ' +\n",
              "          '<a target=\"_blank\" href=https://colab.research.google.com/notebooks/data_table.ipynb>data table notebook</a>'\n",
              "          + ' to learn more about interactive tables.';\n",
              "        element.innerHTML = '';\n",
              "        dataTable['output_type'] = 'display_data';\n",
              "        await google.colab.output.renderOutput(dataTable, element);\n",
              "        const docLink = document.createElement('div');\n",
              "        docLink.innerHTML = docLinkHtml;\n",
              "        element.appendChild(docLink);\n",
              "      }\n",
              "    </script>\n",
              "  </div>\n",
              "\n",
              "\n",
              "<div id=\"df-8e633d5f-4019-4b8e-8137-f555946c96ea\">\n",
              "  <button class=\"colab-df-quickchart\" onclick=\"quickchart('df-8e633d5f-4019-4b8e-8137-f555946c96ea')\"\n",
              "            title=\"Suggest charts.\"\n",
              "            style=\"display:none;\">\n",
              "\n",
              "<svg xmlns=\"http://www.w3.org/2000/svg\" height=\"24px\"viewBox=\"0 0 24 24\"\n",
              "     width=\"24px\">\n",
              "    <g>\n",
              "        <path d=\"M19 3H5c-1.1 0-2 .9-2 2v14c0 1.1.9 2 2 2h14c1.1 0 2-.9 2-2V5c0-1.1-.9-2-2-2zM9 17H7v-7h2v7zm4 0h-2V7h2v10zm4 0h-2v-4h2v4z\"/>\n",
              "    </g>\n",
              "</svg>\n",
              "  </button>\n",
              "\n",
              "<style>\n",
              "  .colab-df-quickchart {\n",
              "      --bg-color: #E8F0FE;\n",
              "      --fill-color: #1967D2;\n",
              "      --hover-bg-color: #E2EBFA;\n",
              "      --hover-fill-color: #174EA6;\n",
              "      --disabled-fill-color: #AAA;\n",
              "      --disabled-bg-color: #DDD;\n",
              "  }\n",
              "\n",
              "  [theme=dark] .colab-df-quickchart {\n",
              "      --bg-color: #3B4455;\n",
              "      --fill-color: #D2E3FC;\n",
              "      --hover-bg-color: #434B5C;\n",
              "      --hover-fill-color: #FFFFFF;\n",
              "      --disabled-bg-color: #3B4455;\n",
              "      --disabled-fill-color: #666;\n",
              "  }\n",
              "\n",
              "  .colab-df-quickchart {\n",
              "    background-color: var(--bg-color);\n",
              "    border: none;\n",
              "    border-radius: 50%;\n",
              "    cursor: pointer;\n",
              "    display: none;\n",
              "    fill: var(--fill-color);\n",
              "    height: 32px;\n",
              "    padding: 0;\n",
              "    width: 32px;\n",
              "  }\n",
              "\n",
              "  .colab-df-quickchart:hover {\n",
              "    background-color: var(--hover-bg-color);\n",
              "    box-shadow: 0 1px 2px rgba(60, 64, 67, 0.3), 0 1px 3px 1px rgba(60, 64, 67, 0.15);\n",
              "    fill: var(--button-hover-fill-color);\n",
              "  }\n",
              "\n",
              "  .colab-df-quickchart-complete:disabled,\n",
              "  .colab-df-quickchart-complete:disabled:hover {\n",
              "    background-color: var(--disabled-bg-color);\n",
              "    fill: var(--disabled-fill-color);\n",
              "    box-shadow: none;\n",
              "  }\n",
              "\n",
              "  .colab-df-spinner {\n",
              "    border: 2px solid var(--fill-color);\n",
              "    border-color: transparent;\n",
              "    border-bottom-color: var(--fill-color);\n",
              "    animation:\n",
              "      spin 1s steps(1) infinite;\n",
              "  }\n",
              "\n",
              "  @keyframes spin {\n",
              "    0% {\n",
              "      border-color: transparent;\n",
              "      border-bottom-color: var(--fill-color);\n",
              "      border-left-color: var(--fill-color);\n",
              "    }\n",
              "    20% {\n",
              "      border-color: transparent;\n",
              "      border-left-color: var(--fill-color);\n",
              "      border-top-color: var(--fill-color);\n",
              "    }\n",
              "    30% {\n",
              "      border-color: transparent;\n",
              "      border-left-color: var(--fill-color);\n",
              "      border-top-color: var(--fill-color);\n",
              "      border-right-color: var(--fill-color);\n",
              "    }\n",
              "    40% {\n",
              "      border-color: transparent;\n",
              "      border-right-color: var(--fill-color);\n",
              "      border-top-color: var(--fill-color);\n",
              "    }\n",
              "    60% {\n",
              "      border-color: transparent;\n",
              "      border-right-color: var(--fill-color);\n",
              "    }\n",
              "    80% {\n",
              "      border-color: transparent;\n",
              "      border-right-color: var(--fill-color);\n",
              "      border-bottom-color: var(--fill-color);\n",
              "    }\n",
              "    90% {\n",
              "      border-color: transparent;\n",
              "      border-bottom-color: var(--fill-color);\n",
              "    }\n",
              "  }\n",
              "</style>\n",
              "\n",
              "  <script>\n",
              "    async function quickchart(key) {\n",
              "      const quickchartButtonEl =\n",
              "        document.querySelector('#' + key + ' button');\n",
              "      quickchartButtonEl.disabled = true;  // To prevent multiple clicks.\n",
              "      quickchartButtonEl.classList.add('colab-df-spinner');\n",
              "      try {\n",
              "        const charts = await google.colab.kernel.invokeFunction(\n",
              "            'suggestCharts', [key], {});\n",
              "      } catch (error) {\n",
              "        console.error('Error during call to suggestCharts:', error);\n",
              "      }\n",
              "      quickchartButtonEl.classList.remove('colab-df-spinner');\n",
              "      quickchartButtonEl.classList.add('colab-df-quickchart-complete');\n",
              "    }\n",
              "    (() => {\n",
              "      let quickchartButtonEl =\n",
              "        document.querySelector('#df-8e633d5f-4019-4b8e-8137-f555946c96ea button');\n",
              "      quickchartButtonEl.style.display =\n",
              "        google.colab.kernel.accessAllowed ? 'block' : 'none';\n",
              "    })();\n",
              "  </script>\n",
              "</div>\n",
              "    </div>\n",
              "  </div>\n"
            ]
          },
          "metadata": {},
          "execution_count": 22
        }
      ],
      "source": [
        "# Veo como queda el dataframe con la nueva columna\n",
        "df.head()"
      ]
    },
    {
      "cell_type": "code",
      "execution_count": 23,
      "metadata": {
        "id": "2vvZOoiY_53F",
        "outputId": "ac39f383-5030-462d-9fc8-71d4fff4e924",
        "colab": {
          "base_uri": "https://localhost:8080/",
          "height": 467
        }
      },
      "outputs": [
        {
          "output_type": "execute_result",
          "data": {
            "text/plain": [
              "<Axes: xlabel='average_score', ylabel='math score'>"
            ]
          },
          "metadata": {},
          "execution_count": 23
        },
        {
          "output_type": "display_data",
          "data": {
            "text/plain": [
              "<Figure size 640x480 with 1 Axes>"
            ],
            "image/png": "[encoded data removed]"
          },
          "metadata": {}
        }
      ],
      "source": [
        "# Exploramos la relación entre la nota promedio y la nota en matemáticas\n",
        "sns.scatterplot(x=df['average_score'],y=df['math score'],hue=df['gender'])"
      ]
    },
    {
      "cell_type": "code",
      "execution_count": 24,
      "metadata": {
        "id": "RBuHw_D3_53F",
        "outputId": "b5b7018c-d1cf-4716-8158-0c55f7447c74",
        "colab": {
          "base_uri": "https://localhost:8080/",
          "height": 467
        }
      },
      "outputs": [
        {
          "output_type": "execute_result",
          "data": {
            "text/plain": [
              "<Axes: xlabel='average_score', ylabel='reading score'>"
            ]
          },
          "metadata": {},
          "execution_count": 24
        },
        {
          "output_type": "display_data",
          "data": {
            "text/plain": [
              "<Figure size 640x480 with 1 Axes>"
            ],
            "image/png": "[encoded data removed]"
          },
          "metadata": {}
        }
      ],
      "source": [
        "# lo mismo para lectura\n",
        "sns.scatterplot(x=df['average_score'],y=df['reading score'],hue=df['gender'])"
      ]
    },
    {
      "cell_type": "code",
      "source": [
        "# Crear Matríz de Correlación para ver la influencia mutua entre las variables numéricas\n",
        "\n",
        "correlation_matrix = df.corr()\n",
        "\n",
        "# Generate the heatmap\n",
        "plt.figure(figsize=(10, 8))\n",
        "sns.heatmap(correlation_matrix, annot=True, cmap='coolwarm', fmt='.2f')\n",
        "plt.title('Mapa de calor de Correlación')\n",
        "plt.show()"
      ],
      "metadata": {
        "colab": {
          "base_uri": "https://localhost:8080/",
          "height": 756
        },
        "id": "PFeeWLXV07Ob",
        "outputId": "3b3b50c3-f865-4052-a326-a088630650ab"
      },
      "execution_count": 26,
      "outputs": [
        {
          "output_type": "stream",
          "name": "stderr",
          "text": [
            "<ipython-input-26-3d1a0ac1fa38>:3: FutureWarning: The default value of numeric_only in DataFrame.corr is deprecated. In a future version, it will default to False. Select only valid columns or specify the value of numeric_only to silence this warning.\n",
            "  correlation_matrix = df.corr()\n"
          ]
        },
        {
          "output_type": "display_data",
          "data": {
            "text/plain": [
              "<Figure size 1000x800 with 2 Axes>"
            ],
            "image/png": "[encoded data removed]"
          },
          "metadata": {}
        }
      ]
    },
    {
      "cell_type": "code",
      "source": [
        "# Explorar las relaciones entre el promedio de notas y otras variables\n",
        "# 1. Género\n",
        "avg_score_by_gender = df.groupby('gender')['average_score'].mean()\n",
        "\n",
        "# 2. Nivel de educación de los padres\n",
        "avg_score_by_parent_education = df.groupby('parental level of education')['average_score'].mean().sort_values()\n",
        "\n",
        "# 3. Curso de preparación para la prueba\n",
        "avg_score_by_test_prep = df.groupby('test preparation course')['average_score'].mean()\n",
        "\n",
        "# 4. Raza/etnicidad\n",
        "avg_score_by_race = df.groupby('race/ethnicity')['average_score'].mean().sort_values()\n",
        "\n",
        "# 5. Tipo de almuerzo\n",
        "avg_score_by_lunch = df.groupby('lunch')['average_score'].mean()\n",
        "\n",
        "# Imprimir los resultados\n",
        "print(\"Promedio General por género:\", avg_score_by_gender)\n",
        "print(\"Promedio General por nivel de educación de los padres:\", avg_score_by_parent_education)\n",
        "print(\"Promedio General por curso de preparación para la prueba:\", avg_score_by_test_prep)\n",
        "print(\"Promedio General por raza/etnicidad:\", avg_score_by_race)\n",
        "print(\"Promedio General por tipo de almuerzo:\", avg_score_by_lunch)\n"
      ],
      "metadata": {
        "colab": {
          "base_uri": "https://localhost:8080/"
        },
        "id": "rHYQqQtO80e1",
        "outputId": "6e79c5a1-e16a-4e67-ddf2-ee4c011d3c8d"
      },
      "execution_count": 27,
      "outputs": [
        {
          "output_type": "stream",
          "name": "stdout",
          "text": [
            "Promedio General por género: gender\n",
            "female    69.569498\n",
            "male      65.837483\n",
            "Name: average_score, dtype: float64\n",
            "Promedio General por nivel de educación de los padres: parental level of education\n",
            "high school           63.096939\n",
            "some high school      65.108007\n",
            "some college          68.476401\n",
            "associate's degree    69.569069\n",
            "bachelor's degree     71.923729\n",
            "master's degree       73.598870\n",
            "Name: average_score, dtype: float64\n",
            "Promedio General por curso de preparación para la prueba: test preparation course\n",
            "completed    72.669460\n",
            "none         65.038941\n",
            "Name: average_score, dtype: float64\n",
            "Promedio General por raza/etnicidad: race/ethnicity\n",
            "group A    62.992509\n",
            "group B    65.468421\n",
            "group C    67.131661\n",
            "group D    69.179389\n",
            "group E    72.752381\n",
            "Name: average_score, dtype: float64\n",
            "Promedio General por tipo de almuerzo: lunch\n",
            "free/reduced    62.199061\n",
            "standard        70.837209\n",
            "Name: average_score, dtype: float64\n"
          ]
        }
      ]
    },
    {
      "cell_type": "code",
      "source": [
        "# Graficar estas relaciones"
      ],
      "metadata": {
        "id": "n7FQKxHrV0k2"
      },
      "execution_count": 28,
      "outputs": []
    },
    {
      "cell_type": "code",
      "source": [
        "# Creo una función que grafique los promedios por cada categoría y luego la aplico en cada columna\n",
        "\n",
        "def plot_avg_score_by_category(avg_score_series, title, xlabel, color, ylabel='Average Score'):\n",
        "    plt.figure(figsize=(10, 6))\n",
        "    avg_score_series.sort_values().plot(kind='bar', color=color, edgecolor='black')\n",
        "    plt.title(title)\n",
        "    plt.xlabel(xlabel)\n",
        "    plt.ylabel(ylabel)\n",
        "    plt.xticks(rotation=45)\n",
        "    plt.show()\n",
        "\n",
        "# Generando Gráficos de barras por categorías\n",
        "plot_avg_score_by_category(avg_score_by_gender, 'Promedio General por Género', 'Gender', 'blue')\n",
        "plot_avg_score_by_category(avg_score_by_parent_education, 'Promedio General por Nivel de Educación de los padres', 'Parental Level of Education', 'green')\n",
        "plot_avg_score_by_category(avg_score_by_test_prep, 'Promedio General por Curso de Preparación', 'Test Preparation Course', 'red')\n",
        "plot_avg_score_by_category(avg_score_by_race, 'Promedio General por Raza/Etnia', 'Race/Ethnicity', 'purple')\n",
        "plot_avg_score_by_category(avg_score_by_lunch, 'Promedio General por Tipo de Almuerzo', 'Lunch Type', 'orange')\n"
      ],
      "metadata": {
        "colab": {
          "base_uri": "https://localhost:8080/",
          "height": 1000
        },
        "id": "Ov2YZyBHV1JD",
        "outputId": "1e737519-49b5-4613-9e4b-c23a9a89d605"
      },
      "execution_count": 29,
      "outputs": [
        {
          "output_type": "display_data",
          "data": {
            "text/plain": [
              "<Figure size 1000x600 with 1 Axes>"
            ],
            "image/png": "[encoded data removed]"
          },
          "metadata": {}
        },
        {
          "output_type": "display_data",
          "data": {
            "text/plain": [
              "<Figure size 1000x600 with 1 Axes>"
            ],
            "image/png": "[encoded data removed]"
          },
          "metadata": {}
        },
        {
          "output_type": "display_data",
          "data": {
            "text/plain": [
              "<Figure size 1000x600 with 1 Axes>"
            ],
            "image/png": "[encoded data removed]"
          },
          "metadata": {}
        },
        {
          "output_type": "display_data",
          "data": {
            "text/plain": [
              "<Figure size 1000x600 with 1 Axes>"
            ],
            "image/png": "[encoded data removed]"
          },
          "metadata": {}
        },
        {
          "output_type": "display_data",
          "data": {
            "text/plain": [
              "<Figure size 1000x600 with 1 Axes>"
            ],
            "image/png": "[encoded data removed]"
          },
          "metadata": {}
        }
      ]
    },
    {
      "cell_type": "code",
      "source": [
        "# Algunas conclusiones:\n",
        "\"\"\"\n",
        "Género (Gender): Parece que las mujeres tienden a tener un promedio general más alto que los hombres.\n",
        "Raza/Etnia (Race/Ethnicity): Hay algunas diferencias en los promedios generales entre los distintos grupos, aunque no son muy pronunciadas ni significativas.\n",
        "Nivel Educativo de los Padres (Parental Level of Education): Los estudiantes cuyos padres tienen un grado de máster tienden a tener promedios generales más altos; y a su vez mientras mayor es el nivel de educación general de los padres, el promedio es mayor.\n",
        "Tipo de Almuerzo (Lunch): Los estudiantes con almuerzo estándar tienden a tener un promedio general más alto.\n",
        "Curso de Preparación para el Examen (Test Preparation Course): Los estudiantes que completaron un curso de preparación tienden a tener un promedio general más alto.\n",
        "\"\"\""
      ],
      "metadata": {
        "colab": {
          "base_uri": "https://localhost:8080/",
          "height": 127
        },
        "id": "9w5eKoqTV16U",
        "outputId": "5fdb2f1e-a0b1-47a0-9ff9-94e06029d0e4"
      },
      "execution_count": 30,
      "outputs": [
        {
          "output_type": "execute_result",
          "data": {
            "text/plain": [
              "'\\nGénero (Gender): Parece que las mujeres tienden a tener un promedio general más alto que los hombres.\\nRaza/Etnia (Race/Ethnicity): Hay algunas diferencias en los promedios generales entre los distintos grupos, aunque no son muy pronunciadas ni significativas.\\nNivel Educativo de los Padres (Parental Level of Education): Los estudiantes cuyos padres tienen un grado de máster tienden a tener promedios generales más altos; y a su vez mientras mayor es el nivel de educación general de los padres, el promedio es mayor.\\nTipo de Almuerzo (Lunch): Los estudiantes con almuerzo estándar tienden a tener un promedio general más alto.\\nCurso de Preparación para el Examen (Test Preparation Course): Los estudiantes que completaron un curso de preparación tienden a tener un promedio general más alto.\\n'"
            ],
            "application/vnd.google.colaboratory.intrinsic+json": {
              "type": "string"
            }
          },
          "metadata": {},
          "execution_count": 30
        }
      ]
    },
    {
      "cell_type": "code",
      "source": [],
      "metadata": {
        "id": "egJT8WkeX67U"
      },
      "execution_count": null,
      "outputs": []
    },
    {
      "cell_type": "code",
      "execution_count": 31,
      "metadata": {
        "id": "T3UroRX7_53F"
      },
      "outputs": [],
      "source": [
        "# Feature Engineering\n",
        "# Label Encoding de las columnas categoricas para no hacer 1-Hot Encoding y añadir más columnas al dataframe que tengan colinealidad entre ellas"
      ]
    },
    {
      "cell_type": "code",
      "execution_count": 32,
      "metadata": {
        "id": "QO6aWo2P_53F"
      },
      "outputs": [],
      "source": [
        "# Creo diccionarios para mapear las columnas categóricas y convertirlas a numéricas\n",
        "gender = {\n",
        "    'male':1,\n",
        "    'female':0\n",
        "}"
      ]
    },
    {
      "cell_type": "code",
      "execution_count": 33,
      "metadata": {
        "id": "LNeCOb02_53G"
      },
      "outputs": [],
      "source": [
        "race = {\n",
        "    'group A':0,\n",
        "    'group B':1,\n",
        "    'group C':2,\n",
        "    'group D':3,\n",
        "    'group E':4\n",
        "}"
      ]
    },
    {
      "cell_type": "code",
      "execution_count": 34,
      "metadata": {
        "id": "LhaPeiy2_53G"
      },
      "outputs": [],
      "source": [
        "# Reemplazo las columnas gender y race por sus mapeos en label encoding\n",
        "df['gender']=df['gender'].map(gender)\n",
        "df['race/ethnicity']=df['race/ethnicity'].map(race)"
      ]
    },
    {
      "cell_type": "code",
      "execution_count": 35,
      "metadata": {
        "id": "LUNrvoyw_53G",
        "outputId": "94b9d5bb-e1e7-45b6-db09-44e7fb551d3b",
        "colab": {
          "base_uri": "https://localhost:8080/",
          "height": 223
        }
      },
      "outputs": [
        {
          "output_type": "execute_result",
          "data": {
            "text/plain": [
              "   gender  race/ethnicity parental level of education         lunch  \\\n",
              "0       0               1           bachelor's degree      standard   \n",
              "1       0               2                some college      standard   \n",
              "2       0               1             master's degree      standard   \n",
              "3       1               0          associate's degree  free/reduced   \n",
              "4       1               2                some college      standard   \n",
              "\n",
              "  test preparation course  math score  reading score  writing score  \\\n",
              "0                    none          72             72             74   \n",
              "1               completed          69             90             88   \n",
              "2                    none          90             95             93   \n",
              "3                    none          47             57             44   \n",
              "4                    none          76             78             75   \n",
              "\n",
              "   average_score  \n",
              "0      72.666667  \n",
              "1      82.333333  \n",
              "2      92.666667  \n",
              "3      49.333333  \n",
              "4      76.333333  "
            ],
            "text/html": [
              "\n",
              "  <div id=\"df-f7d22f0c-b70b-4ec9-a057-473d3e07e8db\" class=\"colab-df-container\">\n",
              "    <div>\n",
              "<style scoped>\n",
              "    .dataframe tbody tr th:only-of-type {\n",
              "        vertical-align: middle;\n",
              "    }\n",
              "\n",
              "    .dataframe tbody tr th {\n",
              "        vertical-align: top;\n",
              "    }\n",
              "\n",
              "    .dataframe thead th {\n",
              "        text-align: right;\n",
              "    }\n",
              "</style>\n",
              "<table border=\"1\" class=\"dataframe\">\n",
              "  <thead>\n",
              "    <tr style=\"text-align: right;\">\n",
              "      <th></th>\n",
              "      <th>gender</th>\n",
              "      <th>race/ethnicity</th>\n",
              "      <th>parental level of education</th>\n",
              "      <th>lunch</th>\n",
              "      <th>test preparation course</th>\n",
              "      <th>math score</th>\n",
              "      <th>reading score</th>\n",
              "      <th>writing score</th>\n",
              "      <th>average_score</th>\n",
              "    </tr>\n",
              "  </thead>\n",
              "  <tbody>\n",
              "    <tr>\n",
              "      <th>0</th>\n",
              "      <td>0</td>\n",
              "      <td>1</td>\n",
              "      <td>bachelor's degree</td>\n",
              "      <td>standard</td>\n",
              "      <td>none</td>\n",
              "      <td>72</td>\n",
              "      <td>72</td>\n",
              "      <td>74</td>\n",
              "      <td>72.666667</td>\n",
              "    </tr>\n",
              "    <tr>\n",
              "      <th>1</th>\n",
              "      <td>0</td>\n",
              "      <td>2</td>\n",
              "      <td>some college</td>\n",
              "      <td>standard</td>\n",
              "      <td>completed</td>\n",
              "      <td>69</td>\n",
              "      <td>90</td>\n",
              "      <td>88</td>\n",
              "      <td>82.333333</td>\n",
              "    </tr>\n",
              "    <tr>\n",
              "      <th>2</th>\n",
              "      <td>0</td>\n",
              "      <td>1</td>\n",
              "      <td>master's degree</td>\n",
              "      <td>standard</td>\n",
              "      <td>none</td>\n",
              "      <td>90</td>\n",
              "      <td>95</td>\n",
              "      <td>93</td>\n",
              "      <td>92.666667</td>\n",
              "    </tr>\n",
              "    <tr>\n",
              "      <th>3</th>\n",
              "      <td>1</td>\n",
              "      <td>0</td>\n",
              "      <td>associate's degree</td>\n",
              "      <td>free/reduced</td>\n",
              "      <td>none</td>\n",
              "      <td>47</td>\n",
              "      <td>57</td>\n",
              "      <td>44</td>\n",
              "      <td>49.333333</td>\n",
              "    </tr>\n",
              "    <tr>\n",
              "      <th>4</th>\n",
              "      <td>1</td>\n",
              "      <td>2</td>\n",
              "      <td>some college</td>\n",
              "      <td>standard</td>\n",
              "      <td>none</td>\n",
              "      <td>76</td>\n",
              "      <td>78</td>\n",
              "      <td>75</td>\n",
              "      <td>76.333333</td>\n",
              "    </tr>\n",
              "  </tbody>\n",
              "</table>\n",
              "</div>\n",
              "    <div class=\"colab-df-buttons\">\n",
              "\n",
              "  <div class=\"colab-df-container\">\n",
              "    <button class=\"colab-df-convert\" onclick=\"convertToInteractive('df-f7d22f0c-b70b-4ec9-a057-473d3e07e8db')\"\n",
              "            title=\"Convert this dataframe to an interactive table.\"\n",
              "            style=\"display:none;\">\n",
              "\n",
              "  <svg xmlns=\"http://www.w3.org/2000/svg\" height=\"24px\" viewBox=\"0 -960 960 960\">\n",
              "    <path d=\"M120-120v-720h720v720H120Zm60-500h600v-160H180v160Zm220 220h160v-160H400v160Zm0 220h160v-160H400v160ZM180-400h160v-160H180v160Zm440 0h160v-160H620v160ZM180-180h160v-160H180v160Zm440 0h160v-160H620v160Z\"/>\n",
              "  </svg>\n",
              "    </button>\n",
              "\n",
              "  <style>\n",
              "    .colab-df-container {\n",
              "      display:flex;\n",
              "      gap: 12px;\n",
              "    }\n",
              "\n",
              "    .colab-df-convert {\n",
              "      background-color: #E8F0FE;\n",
              "      border: none;\n",
              "      border-radius: 50%;\n",
              "      cursor: pointer;\n",
              "      display: none;\n",
              "      fill: #1967D2;\n",
              "      height: 32px;\n",
              "      padding: 0 0 0 0;\n",
              "      width: 32px;\n",
              "    }\n",
              "\n",
              "    .colab-df-convert:hover {\n",
              "      background-color: #E2EBFA;\n",
              "      box-shadow: 0px 1px 2px rgba(60, 64, 67, 0.3), 0px 1px 3px 1px rgba(60, 64, 67, 0.15);\n",
              "      fill: #174EA6;\n",
              "    }\n",
              "\n",
              "    .colab-df-buttons div {\n",
              "      margin-bottom: 4px;\n",
              "    }\n",
              "\n",
              "    [theme=dark] .colab-df-convert {\n",
              "      background-color: #3B4455;\n",
              "      fill: #D2E3FC;\n",
              "    }\n",
              "\n",
              "    [theme=dark] .colab-df-convert:hover {\n",
              "      background-color: #434B5C;\n",
              "      box-shadow: 0px 1px 3px 1px rgba(0, 0, 0, 0.15);\n",
              "      filter: drop-shadow(0px 1px 2px rgba(0, 0, 0, 0.3));\n",
              "      fill: #FFFFFF;\n",
              "    }\n",
              "  </style>\n",
              "\n",
              "    <script>\n",
              "      const buttonEl =\n",
              "        document.querySelector('#df-f7d22f0c-b70b-4ec9-a057-473d3e07e8db button.colab-df-convert');\n",
              "      buttonEl.style.display =\n",
              "        google.colab.kernel.accessAllowed ? 'block' : 'none';\n",
              "\n",
              "      async function convertToInteractive(key) {\n",
              "        const element = document.querySelector('#df-f7d22f0c-b70b-4ec9-a057-473d3e07e8db');\n",
              "        const dataTable =\n",
              "          await google.colab.kernel.invokeFunction('convertToInteractive',\n",
              "                                                    [key], {});\n",
              "        if (!dataTable) return;\n",
              "\n",
              "        const docLinkHtml = 'Like what you see? Visit the ' +\n",
              "          '<a target=\"_blank\" href=https://colab.research.google.com/notebooks/data_table.ipynb>data table notebook</a>'\n",
              "          + ' to learn more about interactive tables.';\n",
              "        element.innerHTML = '';\n",
              "        dataTable['output_type'] = 'display_data';\n",
              "        await google.colab.output.renderOutput(dataTable, element);\n",
              "        const docLink = document.createElement('div');\n",
              "        docLink.innerHTML = docLinkHtml;\n",
              "        element.appendChild(docLink);\n",
              "      }\n",
              "    </script>\n",
              "  </div>\n",
              "\n",
              "\n",
              "<div id=\"df-35535412-f1b6-46d8-acaf-a16b4289fd20\">\n",
              "  <button class=\"colab-df-quickchart\" onclick=\"quickchart('df-35535412-f1b6-46d8-acaf-a16b4289fd20')\"\n",
              "            title=\"Suggest charts.\"\n",
              "            style=\"display:none;\">\n",
              "\n",
              "<svg xmlns=\"http://www.w3.org/2000/svg\" height=\"24px\"viewBox=\"0 0 24 24\"\n",
              "     width=\"24px\">\n",
              "    <g>\n",
              "        <path d=\"M19 3H5c-1.1 0-2 .9-2 2v14c0 1.1.9 2 2 2h14c1.1 0 2-.9 2-2V5c0-1.1-.9-2-2-2zM9 17H7v-7h2v7zm4 0h-2V7h2v10zm4 0h-2v-4h2v4z\"/>\n",
              "    </g>\n",
              "</svg>\n",
              "  </button>\n",
              "\n",
              "<style>\n",
              "  .colab-df-quickchart {\n",
              "      --bg-color: #E8F0FE;\n",
              "      --fill-color: #1967D2;\n",
              "      --hover-bg-color: #E2EBFA;\n",
              "      --hover-fill-color: #174EA6;\n",
              "      --disabled-fill-color: #AAA;\n",
              "      --disabled-bg-color: #DDD;\n",
              "  }\n",
              "\n",
              "  [theme=dark] .colab-df-quickchart {\n",
              "      --bg-color: #3B4455;\n",
              "      --fill-color: #D2E3FC;\n",
              "      --hover-bg-color: #434B5C;\n",
              "      --hover-fill-color: #FFFFFF;\n",
              "      --disabled-bg-color: #3B4455;\n",
              "      --disabled-fill-color: #666;\n",
              "  }\n",
              "\n",
              "  .colab-df-quickchart {\n",
              "    background-color: var(--bg-color);\n",
              "    border: none;\n",
              "    border-radius: 50%;\n",
              "    cursor: pointer;\n",
              "    display: none;\n",
              "    fill: var(--fill-color);\n",
              "    height: 32px;\n",
              "    padding: 0;\n",
              "    width: 32px;\n",
              "  }\n",
              "\n",
              "  .colab-df-quickchart:hover {\n",
              "    background-color: var(--hover-bg-color);\n",
              "    box-shadow: 0 1px 2px rgba(60, 64, 67, 0.3), 0 1px 3px 1px rgba(60, 64, 67, 0.15);\n",
              "    fill: var(--button-hover-fill-color);\n",
              "  }\n",
              "\n",
              "  .colab-df-quickchart-complete:disabled,\n",
              "  .colab-df-quickchart-complete:disabled:hover {\n",
              "    background-color: var(--disabled-bg-color);\n",
              "    fill: var(--disabled-fill-color);\n",
              "    box-shadow: none;\n",
              "  }\n",
              "\n",
              "  .colab-df-spinner {\n",
              "    border: 2px solid var(--fill-color);\n",
              "    border-color: transparent;\n",
              "    border-bottom-color: var(--fill-color);\n",
              "    animation:\n",
              "      spin 1s steps(1) infinite;\n",
              "  }\n",
              "\n",
              "  @keyframes spin {\n",
              "    0% {\n",
              "      border-color: transparent;\n",
              "      border-bottom-color: var(--fill-color);\n",
              "      border-left-color: var(--fill-color);\n",
              "    }\n",
              "    20% {\n",
              "      border-color: transparent;\n",
              "      border-left-color: var(--fill-color);\n",
              "      border-top-color: var(--fill-color);\n",
              "    }\n",
              "    30% {\n",
              "      border-color: transparent;\n",
              "      border-left-color: var(--fill-color);\n",
              "      border-top-color: var(--fill-color);\n",
              "      border-right-color: var(--fill-color);\n",
              "    }\n",
              "    40% {\n",
              "      border-color: transparent;\n",
              "      border-right-color: var(--fill-color);\n",
              "      border-top-color: var(--fill-color);\n",
              "    }\n",
              "    60% {\n",
              "      border-color: transparent;\n",
              "      border-right-color: var(--fill-color);\n",
              "    }\n",
              "    80% {\n",
              "      border-color: transparent;\n",
              "      border-right-color: var(--fill-color);\n",
              "      border-bottom-color: var(--fill-color);\n",
              "    }\n",
              "    90% {\n",
              "      border-color: transparent;\n",
              "      border-bottom-color: var(--fill-color);\n",
              "    }\n",
              "  }\n",
              "</style>\n",
              "\n",
              "  <script>\n",
              "    async function quickchart(key) {\n",
              "      const quickchartButtonEl =\n",
              "        document.querySelector('#' + key + ' button');\n",
              "      quickchartButtonEl.disabled = true;  // To prevent multiple clicks.\n",
              "      quickchartButtonEl.classList.add('colab-df-spinner');\n",
              "      try {\n",
              "        const charts = await google.colab.kernel.invokeFunction(\n",
              "            'suggestCharts', [key], {});\n",
              "      } catch (error) {\n",
              "        console.error('Error during call to suggestCharts:', error);\n",
              "      }\n",
              "      quickchartButtonEl.classList.remove('colab-df-spinner');\n",
              "      quickchartButtonEl.classList.add('colab-df-quickchart-complete');\n",
              "    }\n",
              "    (() => {\n",
              "      let quickchartButtonEl =\n",
              "        document.querySelector('#df-35535412-f1b6-46d8-acaf-a16b4289fd20 button');\n",
              "      quickchartButtonEl.style.display =\n",
              "        google.colab.kernel.accessAllowed ? 'block' : 'none';\n",
              "    })();\n",
              "  </script>\n",
              "</div>\n",
              "    </div>\n",
              "  </div>\n"
            ]
          },
          "metadata": {},
          "execution_count": 35
        }
      ],
      "source": [
        "df.head()"
      ]
    },
    {
      "cell_type": "code",
      "execution_count": 36,
      "metadata": {
        "id": "axImeHfu_53G"
      },
      "outputs": [],
      "source": [
        "# Hago el mismo tipo de mapeo y label encoding para el nivel de educacion de los padres\n",
        "level = {\n",
        "    \"bachelor's degree\":0,\n",
        "    'some college':1,\n",
        "    \"master's degree\":2,\n",
        "    \"associate's degree\":3,\n",
        "    \"high school\":4,\n",
        "    \"some high school\":5\n",
        "}"
      ]
    },
    {
      "cell_type": "code",
      "execution_count": 37,
      "metadata": {
        "id": "Bo9488KM_53G"
      },
      "outputs": [],
      "source": [
        "df['parental level of education']=df['parental level of education'].map(level)"
      ]
    },
    {
      "cell_type": "code",
      "execution_count": 38,
      "metadata": {
        "id": "gAga-AkG_53G",
        "outputId": "dd900fc0-9293-4dbb-dde0-1e33461242dc",
        "colab": {
          "base_uri": "https://localhost:8080/",
          "height": 223
        }
      },
      "outputs": [
        {
          "output_type": "execute_result",
          "data": {
            "text/plain": [
              "   gender  race/ethnicity  parental level of education         lunch  \\\n",
              "0       0               1                            0      standard   \n",
              "1       0               2                            1      standard   \n",
              "2       0               1                            2      standard   \n",
              "3       1               0                            3  free/reduced   \n",
              "4       1               2                            1      standard   \n",
              "\n",
              "  test preparation course  math score  reading score  writing score  \\\n",
              "0                    none          72             72             74   \n",
              "1               completed          69             90             88   \n",
              "2                    none          90             95             93   \n",
              "3                    none          47             57             44   \n",
              "4                    none          76             78             75   \n",
              "\n",
              "   average_score  \n",
              "0      72.666667  \n",
              "1      82.333333  \n",
              "2      92.666667  \n",
              "3      49.333333  \n",
              "4      76.333333  "
            ],
            "text/html": [
              "\n",
              "  <div id=\"df-c1776ecc-d4f3-4c6d-827d-d6061e18679b\" class=\"colab-df-container\">\n",
              "    <div>\n",
              "<style scoped>\n",
              "    .dataframe tbody tr th:only-of-type {\n",
              "        vertical-align: middle;\n",
              "    }\n",
              "\n",
              "    .dataframe tbody tr th {\n",
              "        vertical-align: top;\n",
              "    }\n",
              "\n",
              "    .dataframe thead th {\n",
              "        text-align: right;\n",
              "    }\n",
              "</style>\n",
              "<table border=\"1\" class=\"dataframe\">\n",
              "  <thead>\n",
              "    <tr style=\"text-align: right;\">\n",
              "      <th></th>\n",
              "      <th>gender</th>\n",
              "      <th>race/ethnicity</th>\n",
              "      <th>parental level of education</th>\n",
              "      <th>lunch</th>\n",
              "      <th>test preparation course</th>\n",
              "      <th>math score</th>\n",
              "      <th>reading score</th>\n",
              "      <th>writing score</th>\n",
              "      <th>average_score</th>\n",
              "    </tr>\n",
              "  </thead>\n",
              "  <tbody>\n",
              "    <tr>\n",
              "      <th>0</th>\n",
              "      <td>0</td>\n",
              "      <td>1</td>\n",
              "      <td>0</td>\n",
              "      <td>standard</td>\n",
              "      <td>none</td>\n",
              "      <td>72</td>\n",
              "      <td>72</td>\n",
              "      <td>74</td>\n",
              "      <td>72.666667</td>\n",
              "    </tr>\n",
              "    <tr>\n",
              "      <th>1</th>\n",
              "      <td>0</td>\n",
              "      <td>2</td>\n",
              "      <td>1</td>\n",
              "      <td>standard</td>\n",
              "      <td>completed</td>\n",
              "      <td>69</td>\n",
              "      <td>90</td>\n",
              "      <td>88</td>\n",
              "      <td>82.333333</td>\n",
              "    </tr>\n",
              "    <tr>\n",
              "      <th>2</th>\n",
              "      <td>0</td>\n",
              "      <td>1</td>\n",
              "      <td>2</td>\n",
              "      <td>standard</td>\n",
              "      <td>none</td>\n",
              "      <td>90</td>\n",
              "      <td>95</td>\n",
              "      <td>93</td>\n",
              "      <td>92.666667</td>\n",
              "    </tr>\n",
              "    <tr>\n",
              "      <th>3</th>\n",
              "      <td>1</td>\n",
              "      <td>0</td>\n",
              "      <td>3</td>\n",
              "      <td>free/reduced</td>\n",
              "      <td>none</td>\n",
              "      <td>47</td>\n",
              "      <td>57</td>\n",
              "      <td>44</td>\n",
              "      <td>49.333333</td>\n",
              "    </tr>\n",
              "    <tr>\n",
              "      <th>4</th>\n",
              "      <td>1</td>\n",
              "      <td>2</td>\n",
              "      <td>1</td>\n",
              "      <td>standard</td>\n",
              "      <td>none</td>\n",
              "      <td>76</td>\n",
              "      <td>78</td>\n",
              "      <td>75</td>\n",
              "      <td>76.333333</td>\n",
              "    </tr>\n",
              "  </tbody>\n",
              "</table>\n",
              "</div>\n",
              "    <div class=\"colab-df-buttons\">\n",
              "\n",
              "  <div class=\"colab-df-container\">\n",
              "    <button class=\"colab-df-convert\" onclick=\"convertToInteractive('df-c1776ecc-d4f3-4c6d-827d-d6061e18679b')\"\n",
              "            title=\"Convert this dataframe to an interactive table.\"\n",
              "            style=\"display:none;\">\n",
              "\n",
              "  <svg xmlns=\"http://www.w3.org/2000/svg\" height=\"24px\" viewBox=\"0 -960 960 960\">\n",
              "    <path d=\"M120-120v-720h720v720H120Zm60-500h600v-160H180v160Zm220 220h160v-160H400v160Zm0 220h160v-160H400v160ZM180-400h160v-160H180v160Zm440 0h160v-160H620v160ZM180-180h160v-160H180v160Zm440 0h160v-160H620v160Z\"/>\n",
              "  </svg>\n",
              "    </button>\n",
              "\n",
              "  <style>\n",
              "    .colab-df-container {\n",
              "      display:flex;\n",
              "      gap: 12px;\n",
              "    }\n",
              "\n",
              "    .colab-df-convert {\n",
              "      background-color: #E8F0FE;\n",
              "      border: none;\n",
              "      border-radius: 50%;\n",
              "      cursor: pointer;\n",
              "      display: none;\n",
              "      fill: #1967D2;\n",
              "      height: 32px;\n",
              "      padding: 0 0 0 0;\n",
              "      width: 32px;\n",
              "    }\n",
              "\n",
              "    .colab-df-convert:hover {\n",
              "      background-color: #E2EBFA;\n",
              "      box-shadow: 0px 1px 2px rgba(60, 64, 67, 0.3), 0px 1px 3px 1px rgba(60, 64, 67, 0.15);\n",
              "      fill: #174EA6;\n",
              "    }\n",
              "\n",
              "    .colab-df-buttons div {\n",
              "      margin-bottom: 4px;\n",
              "    }\n",
              "\n",
              "    [theme=dark] .colab-df-convert {\n",
              "      background-color: #3B4455;\n",
              "      fill: #D2E3FC;\n",
              "    }\n",
              "\n",
              "    [theme=dark] .colab-df-convert:hover {\n",
              "      background-color: #434B5C;\n",
              "      box-shadow: 0px 1px 3px 1px rgba(0, 0, 0, 0.15);\n",
              "      filter: drop-shadow(0px 1px 2px rgba(0, 0, 0, 0.3));\n",
              "      fill: #FFFFFF;\n",
              "    }\n",
              "  </style>\n",
              "\n",
              "    <script>\n",
              "      const buttonEl =\n",
              "        document.querySelector('#df-c1776ecc-d4f3-4c6d-827d-d6061e18679b button.colab-df-convert');\n",
              "      buttonEl.style.display =\n",
              "        google.colab.kernel.accessAllowed ? 'block' : 'none';\n",
              "\n",
              "      async function convertToInteractive(key) {\n",
              "        const element = document.querySelector('#df-c1776ecc-d4f3-4c6d-827d-d6061e18679b');\n",
              "        const dataTable =\n",
              "          await google.colab.kernel.invokeFunction('convertToInteractive',\n",
              "                                                    [key], {});\n",
              "        if (!dataTable) return;\n",
              "\n",
              "        const docLinkHtml = 'Like what you see? Visit the ' +\n",
              "          '<a target=\"_blank\" href=https://colab.research.google.com/notebooks/data_table.ipynb>data table notebook</a>'\n",
              "          + ' to learn more about interactive tables.';\n",
              "        element.innerHTML = '';\n",
              "        dataTable['output_type'] = 'display_data';\n",
              "        await google.colab.output.renderOutput(dataTable, element);\n",
              "        const docLink = document.createElement('div');\n",
              "        docLink.innerHTML = docLinkHtml;\n",
              "        element.appendChild(docLink);\n",
              "      }\n",
              "    </script>\n",
              "  </div>\n",
              "\n",
              "\n",
              "<div id=\"df-6c9df5a2-5650-4669-8b62-2fb1a4fc2a63\">\n",
              "  <button class=\"colab-df-quickchart\" onclick=\"quickchart('df-6c9df5a2-5650-4669-8b62-2fb1a4fc2a63')\"\n",
              "            title=\"Suggest charts.\"\n",
              "            style=\"display:none;\">\n",
              "\n",
              "<svg xmlns=\"http://www.w3.org/2000/svg\" height=\"24px\"viewBox=\"0 0 24 24\"\n",
              "     width=\"24px\">\n",
              "    <g>\n",
              "        <path d=\"M19 3H5c-1.1 0-2 .9-2 2v14c0 1.1.9 2 2 2h14c1.1 0 2-.9 2-2V5c0-1.1-.9-2-2-2zM9 17H7v-7h2v7zm4 0h-2V7h2v10zm4 0h-2v-4h2v4z\"/>\n",
              "    </g>\n",
              "</svg>\n",
              "  </button>\n",
              "\n",
              "<style>\n",
              "  .colab-df-quickchart {\n",
              "      --bg-color: #E8F0FE;\n",
              "      --fill-color: #1967D2;\n",
              "      --hover-bg-color: #E2EBFA;\n",
              "      --hover-fill-color: #174EA6;\n",
              "      --disabled-fill-color: #AAA;\n",
              "      --disabled-bg-color: #DDD;\n",
              "  }\n",
              "\n",
              "  [theme=dark] .colab-df-quickchart {\n",
              "      --bg-color: #3B4455;\n",
              "      --fill-color: #D2E3FC;\n",
              "      --hover-bg-color: #434B5C;\n",
              "      --hover-fill-color: #FFFFFF;\n",
              "      --disabled-bg-color: #3B4455;\n",
              "      --disabled-fill-color: #666;\n",
              "  }\n",
              "\n",
              "  .colab-df-quickchart {\n",
              "    background-color: var(--bg-color);\n",
              "    border: none;\n",
              "    border-radius: 50%;\n",
              "    cursor: pointer;\n",
              "    display: none;\n",
              "    fill: var(--fill-color);\n",
              "    height: 32px;\n",
              "    padding: 0;\n",
              "    width: 32px;\n",
              "  }\n",
              "\n",
              "  .colab-df-quickchart:hover {\n",
              "    background-color: var(--hover-bg-color);\n",
              "    box-shadow: 0 1px 2px rgba(60, 64, 67, 0.3), 0 1px 3px 1px rgba(60, 64, 67, 0.15);\n",
              "    fill: var(--button-hover-fill-color);\n",
              "  }\n",
              "\n",
              "  .colab-df-quickchart-complete:disabled,\n",
              "  .colab-df-quickchart-complete:disabled:hover {\n",
              "    background-color: var(--disabled-bg-color);\n",
              "    fill: var(--disabled-fill-color);\n",
              "    box-shadow: none;\n",
              "  }\n",
              "\n",
              "  .colab-df-spinner {\n",
              "    border: 2px solid var(--fill-color);\n",
              "    border-color: transparent;\n",
              "    border-bottom-color: var(--fill-color);\n",
              "    animation:\n",
              "      spin 1s steps(1) infinite;\n",
              "  }\n",
              "\n",
              "  @keyframes spin {\n",
              "    0% {\n",
              "      border-color: transparent;\n",
              "      border-bottom-color: var(--fill-color);\n",
              "      border-left-color: var(--fill-color);\n",
              "    }\n",
              "    20% {\n",
              "      border-color: transparent;\n",
              "      border-left-color: var(--fill-color);\n",
              "      border-top-color: var(--fill-color);\n",
              "    }\n",
              "    30% {\n",
              "      border-color: transparent;\n",
              "      border-left-color: var(--fill-color);\n",
              "      border-top-color: var(--fill-color);\n",
              "      border-right-color: var(--fill-color);\n",
              "    }\n",
              "    40% {\n",
              "      border-color: transparent;\n",
              "      border-right-color: var(--fill-color);\n",
              "      border-top-color: var(--fill-color);\n",
              "    }\n",
              "    60% {\n",
              "      border-color: transparent;\n",
              "      border-right-color: var(--fill-color);\n",
              "    }\n",
              "    80% {\n",
              "      border-color: transparent;\n",
              "      border-right-color: var(--fill-color);\n",
              "      border-bottom-color: var(--fill-color);\n",
              "    }\n",
              "    90% {\n",
              "      border-color: transparent;\n",
              "      border-bottom-color: var(--fill-color);\n",
              "    }\n",
              "  }\n",
              "</style>\n",
              "\n",
              "  <script>\n",
              "    async function quickchart(key) {\n",
              "      const quickchartButtonEl =\n",
              "        document.querySelector('#' + key + ' button');\n",
              "      quickchartButtonEl.disabled = true;  // To prevent multiple clicks.\n",
              "      quickchartButtonEl.classList.add('colab-df-spinner');\n",
              "      try {\n",
              "        const charts = await google.colab.kernel.invokeFunction(\n",
              "            'suggestCharts', [key], {});\n",
              "      } catch (error) {\n",
              "        console.error('Error during call to suggestCharts:', error);\n",
              "      }\n",
              "      quickchartButtonEl.classList.remove('colab-df-spinner');\n",
              "      quickchartButtonEl.classList.add('colab-df-quickchart-complete');\n",
              "    }\n",
              "    (() => {\n",
              "      let quickchartButtonEl =\n",
              "        document.querySelector('#df-6c9df5a2-5650-4669-8b62-2fb1a4fc2a63 button');\n",
              "      quickchartButtonEl.style.display =\n",
              "        google.colab.kernel.accessAllowed ? 'block' : 'none';\n",
              "    })();\n",
              "  </script>\n",
              "</div>\n",
              "    </div>\n",
              "  </div>\n"
            ]
          },
          "metadata": {},
          "execution_count": 38
        }
      ],
      "source": [
        "df.head()"
      ]
    },
    {
      "cell_type": "code",
      "execution_count": 39,
      "metadata": {
        "id": "BAo85Qzo_53G"
      },
      "outputs": [],
      "source": [
        "df = pd.get_dummies(df,drop_first=True)"
      ]
    },
    {
      "cell_type": "code",
      "source": [
        "\"\"\" La función pd.get_dummies() se utiliza para convertir variables categóricas en un formato que sea más fácil de proporcionar a modelos de machine learning. Esta función crea una nueva columna por cada valor único en la columna original y asigna un 1 o un 0 (dummy variables) para cada registro, dependiendo de si el registro tiene ese valor o no.\n",
        "\n",
        "El parámetro drop_first=True se utiliza para evitar la multicolinealidad, que es un problema común en estadísticas cuando se tienen variables altamente correlacionadas. Al establecer drop_first=True, la primera columna \"dummy\" se eliminará, asegurando que solo se creen\n",
        "�\n",
        "−\n",
        "1\n",
        "n−1 columnas \"dummy\" para una columna original con\n",
        "�\n",
        "n categorías únicas. Esto es especialmente útil en modelos de regresión lineal y otros algoritmos que son sensibles a la multicolinealidad.\n",
        "\n",
        "\"\"\""
      ],
      "metadata": {
        "colab": {
          "base_uri": "https://localhost:8080/",
          "height": 145
        },
        "id": "I8NxcyWxfiHD",
        "outputId": "809b7107-79a1-4605-e9d2-7981f772de6b"
      },
      "execution_count": 40,
      "outputs": [
        {
          "output_type": "execute_result",
          "data": {
            "text/plain": [
              "' La función pd.get_dummies() se utiliza para convertir variables categóricas en un formato que sea más fácil de proporcionar a modelos de machine learning. Esta función crea una nueva columna por cada valor único en la columna original y asigna un 1 o un 0 (dummy variables) para cada registro, dependiendo de si el registro tiene ese valor o no.\\n\\nEl parámetro drop_first=True se utiliza para evitar la multicolinealidad, que es un problema común en estadísticas cuando se tienen variables altamente correlacionadas. Al establecer drop_first=True, la primera columna \"dummy\" se eliminará, asegurando que solo se creen \\n�\\n−\\n1\\nn−1 columnas \"dummy\" para una columna original con \\n�\\nn categorías únicas. Esto es especialmente útil en modelos de regresión lineal y otros algoritmos que son sensibles a la multicolinealidad.\\n\\n'"
            ],
            "application/vnd.google.colaboratory.intrinsic+json": {
              "type": "string"
            }
          },
          "metadata": {},
          "execution_count": 40
        }
      ]
    },
    {
      "cell_type": "code",
      "execution_count": 41,
      "metadata": {
        "id": "nKoe8ECo_53G",
        "outputId": "875b0505-fcfb-4d2d-86a5-de54e13256ee",
        "colab": {
          "base_uri": "https://localhost:8080/",
          "height": 223
        }
      },
      "outputs": [
        {
          "output_type": "execute_result",
          "data": {
            "text/plain": [
              "   gender  race/ethnicity  parental level of education  math score  \\\n",
              "0       0               1                            0          72   \n",
              "1       0               2                            1          69   \n",
              "2       0               1                            2          90   \n",
              "3       1               0                            3          47   \n",
              "4       1               2                            1          76   \n",
              "\n",
              "   reading score  writing score  average_score  lunch_standard  \\\n",
              "0             72             74      72.666667               1   \n",
              "1             90             88      82.333333               1   \n",
              "2             95             93      92.666667               1   \n",
              "3             57             44      49.333333               0   \n",
              "4             78             75      76.333333               1   \n",
              "\n",
              "   test preparation course_none  \n",
              "0                             1  \n",
              "1                             0  \n",
              "2                             1  \n",
              "3                             1  \n",
              "4                             1  "
            ],
            "text/html": [
              "\n",
              "  <div id=\"df-1ec35e84-23ae-43a4-9481-166d37b666ac\" class=\"colab-df-container\">\n",
              "    <div>\n",
              "<style scoped>\n",
              "    .dataframe tbody tr th:only-of-type {\n",
              "        vertical-align: middle;\n",
              "    }\n",
              "\n",
              "    .dataframe tbody tr th {\n",
              "        vertical-align: top;\n",
              "    }\n",
              "\n",
              "    .dataframe thead th {\n",
              "        text-align: right;\n",
              "    }\n",
              "</style>\n",
              "<table border=\"1\" class=\"dataframe\">\n",
              "  <thead>\n",
              "    <tr style=\"text-align: right;\">\n",
              "      <th></th>\n",
              "      <th>gender</th>\n",
              "      <th>race/ethnicity</th>\n",
              "      <th>parental level of education</th>\n",
              "      <th>math score</th>\n",
              "      <th>reading score</th>\n",
              "      <th>writing score</th>\n",
              "      <th>average_score</th>\n",
              "      <th>lunch_standard</th>\n",
              "      <th>test preparation course_none</th>\n",
              "    </tr>\n",
              "  </thead>\n",
              "  <tbody>\n",
              "    <tr>\n",
              "      <th>0</th>\n",
              "      <td>0</td>\n",
              "      <td>1</td>\n",
              "      <td>0</td>\n",
              "      <td>72</td>\n",
              "      <td>72</td>\n",
              "      <td>74</td>\n",
              "      <td>72.666667</td>\n",
              "      <td>1</td>\n",
              "      <td>1</td>\n",
              "    </tr>\n",
              "    <tr>\n",
              "      <th>1</th>\n",
              "      <td>0</td>\n",
              "      <td>2</td>\n",
              "      <td>1</td>\n",
              "      <td>69</td>\n",
              "      <td>90</td>\n",
              "      <td>88</td>\n",
              "      <td>82.333333</td>\n",
              "      <td>1</td>\n",
              "      <td>0</td>\n",
              "    </tr>\n",
              "    <tr>\n",
              "      <th>2</th>\n",
              "      <td>0</td>\n",
              "      <td>1</td>\n",
              "      <td>2</td>\n",
              "      <td>90</td>\n",
              "      <td>95</td>\n",
              "      <td>93</td>\n",
              "      <td>92.666667</td>\n",
              "      <td>1</td>\n",
              "      <td>1</td>\n",
              "    </tr>\n",
              "    <tr>\n",
              "      <th>3</th>\n",
              "      <td>1</td>\n",
              "      <td>0</td>\n",
              "      <td>3</td>\n",
              "      <td>47</td>\n",
              "      <td>57</td>\n",
              "      <td>44</td>\n",
              "      <td>49.333333</td>\n",
              "      <td>0</td>\n",
              "      <td>1</td>\n",
              "    </tr>\n",
              "    <tr>\n",
              "      <th>4</th>\n",
              "      <td>1</td>\n",
              "      <td>2</td>\n",
              "      <td>1</td>\n",
              "      <td>76</td>\n",
              "      <td>78</td>\n",
              "      <td>75</td>\n",
              "      <td>76.333333</td>\n",
              "      <td>1</td>\n",
              "      <td>1</td>\n",
              "    </tr>\n",
              "  </tbody>\n",
              "</table>\n",
              "</div>\n",
              "    <div class=\"colab-df-buttons\">\n",
              "\n",
              "  <div class=\"colab-df-container\">\n",
              "    <button class=\"colab-df-convert\" onclick=\"convertToInteractive('df-1ec35e84-23ae-43a4-9481-166d37b666ac')\"\n",
              "            title=\"Convert this dataframe to an interactive table.\"\n",
              "            style=\"display:none;\">\n",
              "\n",
              "  <svg xmlns=\"http://www.w3.org/2000/svg\" height=\"24px\" viewBox=\"0 -960 960 960\">\n",
              "    <path d=\"M120-120v-720h720v720H120Zm60-500h600v-160H180v160Zm220 220h160v-160H400v160Zm0 220h160v-160H400v160ZM180-400h160v-160H180v160Zm440 0h160v-160H620v160ZM180-180h160v-160H180v160Zm440 0h160v-160H620v160Z\"/>\n",
              "  </svg>\n",
              "    </button>\n",
              "\n",
              "  <style>\n",
              "    .colab-df-container {\n",
              "      display:flex;\n",
              "      gap: 12px;\n",
              "    }\n",
              "\n",
              "    .colab-df-convert {\n",
              "      background-color: #E8F0FE;\n",
              "      border: none;\n",
              "      border-radius: 50%;\n",
              "      cursor: pointer;\n",
              "      display: none;\n",
              "      fill: #1967D2;\n",
              "      height: 32px;\n",
              "      padding: 0 0 0 0;\n",
              "      width: 32px;\n",
              "    }\n",
              "\n",
              "    .colab-df-convert:hover {\n",
              "      background-color: #E2EBFA;\n",
              "      box-shadow: 0px 1px 2px rgba(60, 64, 67, 0.3), 0px 1px 3px 1px rgba(60, 64, 67, 0.15);\n",
              "      fill: #174EA6;\n",
              "    }\n",
              "\n",
              "    .colab-df-buttons div {\n",
              "      margin-bottom: 4px;\n",
              "    }\n",
              "\n",
              "    [theme=dark] .colab-df-convert {\n",
              "      background-color: #3B4455;\n",
              "      fill: #D2E3FC;\n",
              "    }\n",
              "\n",
              "    [theme=dark] .colab-df-convert:hover {\n",
              "      background-color: #434B5C;\n",
              "      box-shadow: 0px 1px 3px 1px rgba(0, 0, 0, 0.15);\n",
              "      filter: drop-shadow(0px 1px 2px rgba(0, 0, 0, 0.3));\n",
              "      fill: #FFFFFF;\n",
              "    }\n",
              "  </style>\n",
              "\n",
              "    <script>\n",
              "      const buttonEl =\n",
              "        document.querySelector('#df-1ec35e84-23ae-43a4-9481-166d37b666ac button.colab-df-convert');\n",
              "      buttonEl.style.display =\n",
              "        google.colab.kernel.accessAllowed ? 'block' : 'none';\n",
              "\n",
              "      async function convertToInteractive(key) {\n",
              "        const element = document.querySelector('#df-1ec35e84-23ae-43a4-9481-166d37b666ac');\n",
              "        const dataTable =\n",
              "          await google.colab.kernel.invokeFunction('convertToInteractive',\n",
              "                                                    [key], {});\n",
              "        if (!dataTable) return;\n",
              "\n",
              "        const docLinkHtml = 'Like what you see? Visit the ' +\n",
              "          '<a target=\"_blank\" href=https://colab.research.google.com/notebooks/data_table.ipynb>data table notebook</a>'\n",
              "          + ' to learn more about interactive tables.';\n",
              "        element.innerHTML = '';\n",
              "        dataTable['output_type'] = 'display_data';\n",
              "        await google.colab.output.renderOutput(dataTable, element);\n",
              "        const docLink = document.createElement('div');\n",
              "        docLink.innerHTML = docLinkHtml;\n",
              "        element.appendChild(docLink);\n",
              "      }\n",
              "    </script>\n",
              "  </div>\n",
              "\n",
              "\n",
              "<div id=\"df-f00ca77a-59e6-4583-b549-d99079b02b5c\">\n",
              "  <button class=\"colab-df-quickchart\" onclick=\"quickchart('df-f00ca77a-59e6-4583-b549-d99079b02b5c')\"\n",
              "            title=\"Suggest charts.\"\n",
              "            style=\"display:none;\">\n",
              "\n",
              "<svg xmlns=\"http://www.w3.org/2000/svg\" height=\"24px\"viewBox=\"0 0 24 24\"\n",
              "     width=\"24px\">\n",
              "    <g>\n",
              "        <path d=\"M19 3H5c-1.1 0-2 .9-2 2v14c0 1.1.9 2 2 2h14c1.1 0 2-.9 2-2V5c0-1.1-.9-2-2-2zM9 17H7v-7h2v7zm4 0h-2V7h2v10zm4 0h-2v-4h2v4z\"/>\n",
              "    </g>\n",
              "</svg>\n",
              "  </button>\n",
              "\n",
              "<style>\n",
              "  .colab-df-quickchart {\n",
              "      --bg-color: #E8F0FE;\n",
              "      --fill-color: #1967D2;\n",
              "      --hover-bg-color: #E2EBFA;\n",
              "      --hover-fill-color: #174EA6;\n",
              "      --disabled-fill-color: #AAA;\n",
              "      --disabled-bg-color: #DDD;\n",
              "  }\n",
              "\n",
              "  [theme=dark] .colab-df-quickchart {\n",
              "      --bg-color: #3B4455;\n",
              "      --fill-color: #D2E3FC;\n",
              "      --hover-bg-color: #434B5C;\n",
              "      --hover-fill-color: #FFFFFF;\n",
              "      --disabled-bg-color: #3B4455;\n",
              "      --disabled-fill-color: #666;\n",
              "  }\n",
              "\n",
              "  .colab-df-quickchart {\n",
              "    background-color: var(--bg-color);\n",
              "    border: none;\n",
              "    border-radius: 50%;\n",
              "    cursor: pointer;\n",
              "    display: none;\n",
              "    fill: var(--fill-color);\n",
              "    height: 32px;\n",
              "    padding: 0;\n",
              "    width: 32px;\n",
              "  }\n",
              "\n",
              "  .colab-df-quickchart:hover {\n",
              "    background-color: var(--hover-bg-color);\n",
              "    box-shadow: 0 1px 2px rgba(60, 64, 67, 0.3), 0 1px 3px 1px rgba(60, 64, 67, 0.15);\n",
              "    fill: var(--button-hover-fill-color);\n",
              "  }\n",
              "\n",
              "  .colab-df-quickchart-complete:disabled,\n",
              "  .colab-df-quickchart-complete:disabled:hover {\n",
              "    background-color: var(--disabled-bg-color);\n",
              "    fill: var(--disabled-fill-color);\n",
              "    box-shadow: none;\n",
              "  }\n",
              "\n",
              "  .colab-df-spinner {\n",
              "    border: 2px solid var(--fill-color);\n",
              "    border-color: transparent;\n",
              "    border-bottom-color: var(--fill-color);\n",
              "    animation:\n",
              "      spin 1s steps(1) infinite;\n",
              "  }\n",
              "\n",
              "  @keyframes spin {\n",
              "    0% {\n",
              "      border-color: transparent;\n",
              "      border-bottom-color: var(--fill-color);\n",
              "      border-left-color: var(--fill-color);\n",
              "    }\n",
              "    20% {\n",
              "      border-color: transparent;\n",
              "      border-left-color: var(--fill-color);\n",
              "      border-top-color: var(--fill-color);\n",
              "    }\n",
              "    30% {\n",
              "      border-color: transparent;\n",
              "      border-left-color: var(--fill-color);\n",
              "      border-top-color: var(--fill-color);\n",
              "      border-right-color: var(--fill-color);\n",
              "    }\n",
              "    40% {\n",
              "      border-color: transparent;\n",
              "      border-right-color: var(--fill-color);\n",
              "      border-top-color: var(--fill-color);\n",
              "    }\n",
              "    60% {\n",
              "      border-color: transparent;\n",
              "      border-right-color: var(--fill-color);\n",
              "    }\n",
              "    80% {\n",
              "      border-color: transparent;\n",
              "      border-right-color: var(--fill-color);\n",
              "      border-bottom-color: var(--fill-color);\n",
              "    }\n",
              "    90% {\n",
              "      border-color: transparent;\n",
              "      border-bottom-color: var(--fill-color);\n",
              "    }\n",
              "  }\n",
              "</style>\n",
              "\n",
              "  <script>\n",
              "    async function quickchart(key) {\n",
              "      const quickchartButtonEl =\n",
              "        document.querySelector('#' + key + ' button');\n",
              "      quickchartButtonEl.disabled = true;  // To prevent multiple clicks.\n",
              "      quickchartButtonEl.classList.add('colab-df-spinner');\n",
              "      try {\n",
              "        const charts = await google.colab.kernel.invokeFunction(\n",
              "            'suggestCharts', [key], {});\n",
              "      } catch (error) {\n",
              "        console.error('Error during call to suggestCharts:', error);\n",
              "      }\n",
              "      quickchartButtonEl.classList.remove('colab-df-spinner');\n",
              "      quickchartButtonEl.classList.add('colab-df-quickchart-complete');\n",
              "    }\n",
              "    (() => {\n",
              "      let quickchartButtonEl =\n",
              "        document.querySelector('#df-f00ca77a-59e6-4583-b549-d99079b02b5c button');\n",
              "      quickchartButtonEl.style.display =\n",
              "        google.colab.kernel.accessAllowed ? 'block' : 'none';\n",
              "    })();\n",
              "  </script>\n",
              "</div>\n",
              "    </div>\n",
              "  </div>\n"
            ]
          },
          "metadata": {},
          "execution_count": 41
        }
      ],
      "source": [
        "df.head()"
      ]
    },
    {
      "cell_type": "code",
      "source": [
        "# Parte 2:Construcción de Modelo de Machine Learning:\n",
        "# Modelo de regresión:\n",
        "\"\"\"Vamos a buscar predecir el promedio general en función de el resto de ariables. Si bien al colocar las 3 notas, el modelo dará un resultado casi exacto con mucha facilidad, el hecho de no colocar alguna de las notas o ninguna de ellas, haría un modelo con un nivel de predicción muy pobre. Por ello lo haremos y luego corroboraremos que no tenga overfitting.\n",
        "\"\"\""
      ],
      "metadata": {
        "colab": {
          "base_uri": "https://localhost:8080/",
          "height": 72
        },
        "id": "W204YkXRkpvo",
        "outputId": "35cb2382-2d7d-4b06-9bf7-b52edfa5bd9e"
      },
      "execution_count": 42,
      "outputs": [
        {
          "output_type": "execute_result",
          "data": {
            "text/plain": [
              "'Vamos a buscar predecir el promedio general en función de el resto de ariables. Si bien al colocar las 3 notas, el modelo dará un resultado casi exacto con mucha facilidad, el hecho de no colocar alguna de las notas o ninguna de ellas, haría un modelo con un nivel de predicción muy pobre. Por ello lo haremos y luego corroboraremos que no tenga overfitting.\\n'"
            ],
            "application/vnd.google.colaboratory.intrinsic+json": {
              "type": "string"
            }
          },
          "metadata": {},
          "execution_count": 42
        }
      ]
    },
    {
      "cell_type": "code",
      "source": [
        "# Separamos el conjunto de Variables Independients X que serán utilizadas como variables predictora de la variable Y que es la variable a predecir"
      ],
      "metadata": {
        "id": "ZoVZRVnVkqvB"
      },
      "execution_count": 43,
      "outputs": []
    },
    {
      "cell_type": "code",
      "execution_count": 44,
      "metadata": {
        "id": "W5RfxnxS_53H"
      },
      "outputs": [],
      "source": [
        "# Dataframe x de variables independientes, todascexcepto el promedio\n",
        "x = df.drop(columns='average_score').values"
      ]
    },
    {
      "cell_type": "code",
      "execution_count": 45,
      "metadata": {
        "id": "wogXGbnK_53H",
        "outputId": "1b5c96a6-02e7-4f33-bda4-6e957de5b90b",
        "colab": {
          "base_uri": "https://localhost:8080/"
        }
      },
      "outputs": [
        {
          "output_type": "execute_result",
          "data": {
            "text/plain": [
              "array([[ 0,  1,  0, ..., 74,  1,  1],\n",
              "       [ 0,  2,  1, ..., 88,  1,  0],\n",
              "       [ 0,  1,  2, ..., 93,  1,  1],\n",
              "       ...,\n",
              "       [ 0,  2,  4, ..., 65,  0,  0],\n",
              "       [ 0,  3,  1, ..., 77,  1,  0],\n",
              "       [ 0,  3,  1, ..., 86,  0,  1]])"
            ]
          },
          "metadata": {},
          "execution_count": 45
        }
      ],
      "source": [
        "# Ver el dataframe de las variables predictoras\n",
        "x"
      ]
    },
    {
      "cell_type": "code",
      "execution_count": 46,
      "metadata": {
        "id": "oWkMb4vP_53H",
        "outputId": "8fad8593-b07d-4762-cde7-26fff4a96c46",
        "colab": {
          "base_uri": "https://localhost:8080/"
        }
      },
      "outputs": [
        {
          "output_type": "execute_result",
          "data": {
            "text/plain": [
              "array([ 0,  1,  0, 72, 72, 74,  1,  1])"
            ]
          },
          "metadata": {},
          "execution_count": 46
        }
      ],
      "source": [
        "x[0]"
      ]
    },
    {
      "cell_type": "code",
      "execution_count": 47,
      "metadata": {
        "id": "DBTAEQ3Y_53H"
      },
      "outputs": [],
      "source": [
        "# La columna o array de valores tipo target o variable dependiente\n",
        "y = df['average_score'].values"
      ]
    },
    {
      "cell_type": "code",
      "execution_count": 48,
      "metadata": {
        "id": "g__TiMk0_53H",
        "outputId": "997c6133-9392-4df2-9b34-dedd7d5d0a96",
        "colab": {
          "base_uri": "https://localhost:8080/"
        }
      },
      "outputs": [
        {
          "output_type": "execute_result",
          "data": {
            "text/plain": [
              "array([ 72.66666667,  82.33333333,  92.66666667,  49.33333333,\n",
              "        76.33333333,  77.33333333,  91.66666667,  40.66666667,\n",
              "        65.        ,  49.33333333,  54.66666667,  45.        ,\n",
              "        73.        ,  73.33333333,  53.66666667,  74.        ,\n",
              "        87.66666667,  26.        ,  44.66666667,  57.66666667,\n",
              "        66.        ,  70.        ,  50.33333333,  71.66666667,\n",
              "        75.        ,  73.        ,  59.33333333,  70.33333333,\n",
              "        68.33333333,  69.        ,  72.33333333,  63.        ,\n",
              "        64.33333333,  40.        ,  88.66666667,  80.33333333,\n",
              "        79.33333333,  57.66666667,  84.33333333,  56.66666667,\n",
              "        56.66666667,  66.33333333,  58.66666667,  63.33333333,\n",
              "        53.33333333,  58.66666667,  60.66666667,  71.        ,\n",
              "        69.        ,  82.66666667,  52.        ,  71.33333333,\n",
              "        46.33333333,  80.33333333,  80.66666667,  39.        ,\n",
              "        84.33333333,  52.        ,  58.33333333,   9.        ,\n",
              "        75.        ,  37.33333333,  59.33333333,  73.33333333,\n",
              "        58.66666667,  64.        ,  39.66666667,  68.66666667,\n",
              "        58.33333333,  53.33333333,  64.66666667,  60.33333333,\n",
              "        46.66666667,  58.        ,  46.33333333,  41.        ,\n",
              "        26.        ,  79.66666667,  69.        ,  66.        ,\n",
              "        48.66666667,  46.33333333,  50.33333333,  66.33333333,\n",
              "        38.33333333,  78.33333333,  82.33333333,  72.        ,\n",
              "        65.        ,  80.33333333,  70.33333333,  32.33333333,\n",
              "        73.66666667,  46.        ,  85.66666667,  80.33333333,\n",
              "        64.33333333,  68.33333333,  62.33333333,  64.66666667,\n",
              "        71.        ,  72.        ,  88.33333333,  50.33333333,\n",
              "        91.33333333,  65.66666667,  95.66666667,  64.33333333,\n",
              "        66.        ,  68.66666667,  88.        ,  55.33333333,\n",
              "        51.33333333,  54.33333333,  99.66666667,  78.33333333,\n",
              "        80.66666667,  79.66666667,  58.33333333,  63.        ,\n",
              "        86.66666667,  90.66666667,  91.33333333,  58.66666667,\n",
              "        78.66666667,  89.33333333,  69.        ,  72.        ,\n",
              "        79.33333333,  50.33333333,  85.        ,  43.33333333,\n",
              "        77.        ,  80.        ,  76.        ,  53.66666667,\n",
              "        48.66666667,  60.33333333,  64.        ,  67.        ,\n",
              "        73.        ,  61.66666667,  50.33333333,  49.        ,\n",
              "        79.66666667,  31.33333333,  82.33333333,  69.        ,\n",
              "        74.66666667,  97.66666667,  66.        ,  70.66666667,\n",
              "        65.        ,  50.        ,  63.33333333,  82.33333333,\n",
              "        72.66666667,  60.        ,  78.        ,  64.        ,\n",
              "        78.        ,  82.66666667,  51.33333333,  51.33333333,\n",
              "        88.        ,  98.66666667,  51.66666667,  70.66666667,\n",
              "        76.33333333,  70.66666667,  73.        ,  86.66666667,\n",
              "        82.        ,  66.66666667,  49.33333333,  86.33333333,\n",
              "        52.66666667,  75.        ,  61.33333333,  99.        ,\n",
              "        68.33333333,  58.66666667,  49.        ,  68.        ,\n",
              "        48.66666667,  65.66666667,  73.66666667,  65.33333333,\n",
              "        48.33333333,  84.        ,  66.66666667,  79.33333333,\n",
              "        64.        ,  67.        ,  79.33333333,  56.        ,\n",
              "        64.33333333,  54.        ,  51.        ,  77.66666667,\n",
              "        79.        ,  74.33333333,  71.66666667,  64.66666667,\n",
              "        47.33333333,  74.33333333,  68.66666667,  79.        ,\n",
              "        77.        ,  61.66666667,  79.33333333,  30.        ,\n",
              "        54.66666667,  55.66666667,  86.33333333,  80.66666667,\n",
              "        85.66666667,  38.33333333,  71.        ,  57.66666667,\n",
              "        66.        ,  81.66666667,  60.66666667,  80.33333333,\n",
              "        63.66666667,  51.66666667,  71.66666667,  53.66666667,\n",
              "        68.        ,  92.33333333,  68.66666667,  43.66666667,\n",
              "        78.66666667,  85.66666667,  83.        ,  77.33333333,\n",
              "        65.33333333,  66.        ,  52.33333333,  81.33333333,\n",
              "        69.        ,  82.        ,  54.33333333,  51.        ,\n",
              "        72.66666667,  77.33333333,  79.66666667,  65.33333333,\n",
              "        63.66666667,  60.33333333,  48.33333333,  79.        ,\n",
              "        66.66666667,  77.33333333,  52.66666667,  68.33333333,\n",
              "        68.33333333,  77.33333333,  74.33333333,  75.66666667,\n",
              "        73.33333333,  78.66666667,  48.33333333,  94.        ,\n",
              "        72.33333333,  47.33333333,  73.        ,  72.66666667,\n",
              "        91.66666667,  72.33333333,  64.33333333,  49.66666667,\n",
              "        52.66666667,  68.66666667,  83.        ,  78.        ,\n",
              "        90.        ,  65.66666667,  77.        ,  62.        ,\n",
              "        49.        ,  46.33333333,  78.66666667,  75.33333333,\n",
              "        43.        ,  81.66666667,  89.        ,  79.33333333,\n",
              "        79.66666667,  76.66666667,  71.33333333,  76.33333333,\n",
              "        60.        ,  71.        ,  78.33333333,  63.        ,\n",
              "        43.33333333,  71.        ,  45.33333333,  84.        ,\n",
              "        80.        ,  54.        ,  77.33333333,  73.33333333,\n",
              "        77.33333333,  68.33333333,  89.        ,  49.        ,\n",
              "        63.66666667,  52.66666667,  76.33333333,  61.        ,\n",
              "        65.33333333,  68.        ,  66.        ,  67.33333333,\n",
              "        83.33333333,  77.66666667,  67.66666667,  61.33333333,\n",
              "        76.66666667,  80.        ,  77.33333333,  49.66666667,\n",
              "        43.33333333,  88.66666667,  61.33333333,  23.33333333,\n",
              "        78.        ,  49.        ,  64.        ,  39.66666667,\n",
              "        57.        ,  83.        ,  90.33333333,  65.        ,\n",
              "        71.66666667,  47.66666667,  29.66666667,  50.        ,\n",
              "        57.        ,  65.66666667,  73.        ,  68.66666667,\n",
              "        73.        ,  75.66666667,  60.        ,  88.66666667,\n",
              "        71.66666667,  79.        ,  62.        ,  58.33333333,\n",
              "        73.66666667,  53.66666667,  66.66666667,  67.66666667,\n",
              "        61.66666667,  59.        ,  60.66666667,  86.33333333,\n",
              "        59.66666667,  82.33333333,  56.        ,  31.        ,\n",
              "        59.        ,  55.66666667,  60.        ,  62.66666667,\n",
              "        55.33333333,  80.66666667,  77.33333333,  62.66666667,\n",
              "        73.33333333,  91.66666667,  67.33333333,  43.33333333,\n",
              "        84.        ,  93.33333333,  77.        ,  64.        ,\n",
              "        83.        ,  94.        ,  77.        ,  44.        ,\n",
              "        41.33333333,  72.66666667,  69.        ,  67.33333333,\n",
              "        63.33333333,  72.66666667,  66.33333333,  74.        ,\n",
              "        70.        ,  55.66666667,  72.        ,  44.66666667,\n",
              "        60.        ,  89.66666667,  64.66666667,  57.66666667,\n",
              "        60.        ,  46.33333333,  56.33333333,  95.66666667,\n",
              "        58.33333333,  68.        ,  64.33333333,  79.66666667,\n",
              "        55.        ,  85.33333333,  71.66666667,  81.66666667,\n",
              "        65.66666667,  65.66666667,  67.33333333,  75.33333333,\n",
              "        71.        ,  71.33333333,  63.        ,  55.66666667,\n",
              "        89.33333333,  59.66666667,  57.33333333,  74.66666667,\n",
              "        38.        ,  63.66666667,  85.        ,  68.33333333,\n",
              "        59.        ,  61.66666667,  63.        ,  67.66666667,\n",
              "        57.33333333,  52.        ,  68.33333333,  50.33333333,\n",
              "        69.        ,  71.33333333,  59.        ,  86.33333333,\n",
              "        75.66666667,  79.66666667,  67.        ,  77.33333333,\n",
              "        78.        ,  72.66666667,  65.        ,  82.33333333,\n",
              "        45.        ,  75.33333333,  78.        ,  96.33333333,\n",
              "        72.        ,  57.33333333,  58.66666667,  46.66666667,\n",
              "        85.66666667,  51.66666667, 100.        ,  68.33333333,\n",
              "        55.33333333,  51.        ,  72.33333333,  86.        ,\n",
              "        65.        ,  87.33333333,  31.66666667,  68.        ,\n",
              "        83.33333333,  80.33333333,  86.        ,  68.66666667,\n",
              "        79.33333333,  62.33333333,  90.33333333,  76.66666667,\n",
              "        68.        ,  73.33333333,  63.        ,  71.33333333,\n",
              "        70.66666667,  55.66666667,  65.66666667,  52.33333333,\n",
              "        51.66666667,  71.66666667,  54.66666667,  69.66666667,\n",
              "        58.        ,  81.        ,  75.33333333,  66.        ,\n",
              "        85.33333333,  86.33333333,  62.        ,  66.        ,\n",
              "        51.33333333,  71.        ,  67.66666667,  73.        ,\n",
              "        78.33333333,  91.        ,  59.33333333,  92.        ,\n",
              "        51.        ,  81.33333333,  68.        ,  56.        ,\n",
              "        78.        ,  88.33333333,  73.33333333,  52.33333333,\n",
              "        54.33333333,  59.        ,  89.33333333,  82.66666667,\n",
              "        82.33333333,  71.        ,  74.        ,  74.66666667,\n",
              "        57.33333333,  87.        ,  61.33333333,  54.33333333,\n",
              "        51.33333333,  62.33333333,  59.        ,  44.        ,\n",
              "        39.        ,  68.66666667,  69.33333333,  51.33333333,\n",
              "        60.33333333,  87.        ,  70.        ,  77.33333333,\n",
              "        56.33333333,  59.66666667,  74.        ,  91.66666667,\n",
              "        70.66666667,  80.33333333,  79.        ,  88.66666667,\n",
              "        64.33333333,  80.33333333,  96.33333333,  67.66666667,\n",
              "        64.33333333,  73.33333333,  73.33333333,  88.33333333,\n",
              "        46.        ,  67.66666667,  46.        ,  34.66666667,\n",
              "        68.66666667,  64.66666667,  64.33333333,  67.        ,\n",
              "        76.        ,  70.33333333,  92.66666667,  74.33333333,\n",
              "        48.33333333,  45.33333333,  97.33333333,  70.        ,\n",
              "        52.66666667,  67.66666667,  72.        ,  93.        ,\n",
              "        57.        ,  60.        ,  75.33333333,  49.33333333,\n",
              "        54.66666667,  87.        ,  54.        ,  60.66666667,\n",
              "        91.33333333,  78.66666667,  71.33333333,  76.        ,\n",
              "        74.33333333,  72.33333333,  67.        ,  56.33333333,\n",
              "        61.        ,  59.66666667,  56.33333333,  61.        ,\n",
              "        66.66666667,  74.33333333,  97.        ,  69.        ,\n",
              "        23.        ,  51.66666667,  73.        ,  76.        ,\n",
              "        59.        ,  29.33333333,  78.        ,  56.        ,\n",
              "        87.66666667,  69.66666667,  83.66666667,  50.66666667,\n",
              "        62.33333333,  62.        ,  64.        ,  61.        ,\n",
              "        91.66666667,  72.        ,  89.33333333,  66.66666667,\n",
              "        40.        ,  83.        ,  86.66666667,  68.66666667,\n",
              "        50.        ,  60.33333333,  53.66666667,  94.        ,\n",
              "        60.33333333,  98.66666667,  67.33333333,  51.66666667,\n",
              "        50.66666667,  50.        ,  67.        ,  68.        ,\n",
              "        73.66666667,  82.66666667,  82.66666667,  69.66666667,\n",
              "        76.        ,  86.66666667,  78.66666667,  74.33333333,\n",
              "        48.        ,  84.        ,  77.33333333,  77.66666667,\n",
              "        65.        ,  75.66666667,  64.66666667,  64.66666667,\n",
              "        52.66666667,  76.33333333,  53.33333333,  74.66666667,\n",
              "        89.66666667,  69.66666667,  77.        ,  65.33333333,\n",
              "        69.33333333,  65.33333333,  53.66666667,  87.33333333,\n",
              "        74.66666667,  67.33333333,  65.        ,  67.        ,\n",
              "        68.66666667,  56.66666667,  69.        ,  83.        ,\n",
              "        69.33333333,  76.66666667,  70.        ,  53.        ,\n",
              "        74.33333333,  77.66666667,  74.66666667,  60.        ,\n",
              "        75.66666667,  76.        ,  78.        ,  61.33333333,\n",
              "        71.        ,  62.66666667,  57.        ,  37.66666667,\n",
              "        65.33333333,  97.66666667,  76.        ,  76.        ,\n",
              "        51.66666667,  88.66666667,  51.66666667,  75.66666667,\n",
              "        73.66666667,  75.66666667,  56.        ,  84.66666667,\n",
              "        82.33333333,  67.        ,  71.33333333,  63.66666667,\n",
              "        80.66666667,  65.33333333,  86.        ,  64.66666667,\n",
              "        62.        ,  66.33333333,  38.66666667,  59.        ,\n",
              "        85.        ,  53.66666667,  89.        ,  83.33333333,\n",
              "        99.        ,  82.        ,  68.        ,  85.66666667,\n",
              "        74.33333333,  97.        ,  75.33333333,  81.33333333,\n",
              "        68.        ,  57.66666667,  84.        ,  46.66666667,\n",
              "        43.66666667,  75.33333333,  72.33333333,  58.66666667,\n",
              "        83.        ,  43.        ,  75.        ,  48.        ,\n",
              "        90.        ,  48.66666667,  56.        ,  61.        ,\n",
              "        85.        ,  64.        ,  75.        ,  58.66666667,\n",
              "        75.        ,  50.        ,  82.33333333,  68.        ,\n",
              "        52.33333333,  75.        ,  71.66666667,  67.        ,\n",
              "        56.33333333,  85.66666667,  69.33333333,  68.33333333,\n",
              "        77.        ,  84.        ,  55.33333333,  90.33333333,\n",
              "        55.        ,  70.        ,  58.66666667,  74.33333333,\n",
              "        63.        ,  53.33333333,  81.66666667,  62.33333333,\n",
              "        60.66666667,  72.66666667,  70.        ,  66.        ,\n",
              "        71.33333333,  58.33333333,  49.66666667,  74.        ,\n",
              "        63.66666667,  73.        ,  63.66666667,  54.        ,\n",
              "        69.33333333,  40.66666667,  77.66666667,  87.        ,\n",
              "        53.        ,  83.66666667,  81.        ,  57.66666667,\n",
              "        83.66666667,  42.33333333,  76.        ,  29.66666667,\n",
              "        64.66666667,  59.33333333,  56.66666667,  65.33333333,\n",
              "        69.66666667,  83.33333333,  48.33333333,  66.        ,\n",
              "        70.        ,  78.33333333,  61.        ,  54.66666667,\n",
              "        69.33333333,  76.33333333,  92.        ,  84.66666667,\n",
              "        75.66666667,  76.66666667,  71.        ,  42.        ,\n",
              "        78.        ,  54.66666667,  39.33333333,  47.        ,\n",
              "        61.66666667,  82.33333333,  78.33333333,  89.        ,\n",
              "        56.        ,  69.        ,  66.66666667,  85.33333333,\n",
              "        89.        ,  87.        ,  50.66666667,  80.        ,\n",
              "        52.66666667,  62.33333333,  64.66666667,  70.        ,\n",
              "        78.66666667,  58.33333333,  59.33333333,  83.        ,\n",
              "        60.66666667,  82.66666667,  51.        ,  66.        ,\n",
              "        64.66666667,  78.66666667,  56.        ,  72.        ,\n",
              "        45.66666667,  57.66666667,  34.33333333,  75.66666667,\n",
              "        56.33333333,  86.33333333,  87.        ,  56.        ,\n",
              "        66.33333333,  74.66666667,  68.33333333,  64.        ,\n",
              "        88.33333333,  70.        ,  60.33333333,  96.66666667,\n",
              "        69.33333333,  75.        ,  49.        ,  77.33333333,\n",
              "        56.        ,  84.66666667,  39.66666667,  74.        ,\n",
              "        93.66666667,  84.        ,  54.66666667,  48.        ,\n",
              "        74.66666667,  50.33333333,  54.66666667,  72.66666667,\n",
              "        81.33333333,  87.33333333,  55.33333333,  70.        ,\n",
              "        82.33333333,  57.33333333,  70.33333333,  71.33333333,\n",
              "        64.33333333,  70.33333333,  69.33333333,  48.33333333,\n",
              "        52.        ,  72.66666667,  96.        ,  61.66666667,\n",
              "        69.33333333,  47.66666667,  87.33333333,  87.33333333,\n",
              "        63.33333333,  79.        ,  63.33333333,  34.66666667,\n",
              "        30.66666667,  73.33333333,  61.33333333,  75.        ,\n",
              "        86.        ,  75.        ,  41.        ,  97.66666667,\n",
              "        78.33333333,  80.66666667,  52.        ,  84.66666667,\n",
              "        71.33333333,  68.        ,  46.66666667,  78.33333333,\n",
              "        59.66666667,  58.33333333,  54.        ,  68.        ,\n",
              "       100.        ,  52.33333333,  71.33333333,  92.66666667,\n",
              "        68.66666667,  44.66666667,  68.        ,  61.33333333,\n",
              "        71.        ,  66.        ,  57.33333333,  65.66666667,\n",
              "        44.33333333,  51.66666667,  70.33333333,  60.33333333,\n",
              "        68.33333333,  73.        ,  91.66666667,  63.66666667,\n",
              "        59.        ,  57.33333333,  83.66666667,  71.33333333,\n",
              "        70.        ,  88.33333333,  70.33333333,  61.33333333,\n",
              "        62.33333333,  57.66666667,  81.33333333,  55.66666667,\n",
              "        50.33333333,  68.33333333,  79.33333333,  78.33333333,\n",
              "        73.33333333,  54.66666667,  66.66666667,  63.66666667,\n",
              "        84.        ,  97.33333333,  55.66666667,  75.66666667,\n",
              "        59.33333333,  51.66666667, 100.        ,  72.        ,\n",
              "        62.33333333,  68.        ,  66.        ,  62.        ,\n",
              "        70.33333333,  79.66666667,  96.33333333,  73.        ,\n",
              "        54.33333333,  58.33333333,  61.33333333,  74.33333333,\n",
              "        60.66666667,  61.66666667,  48.        ,  93.33333333,\n",
              "        18.33333333,  79.        ,  83.33333333,  85.33333333,\n",
              "        77.        ,  54.        ,  50.        ,  77.33333333,\n",
              "        44.66666667,  78.66666667,  80.66666667,  75.        ,\n",
              "        69.        ,  69.33333333,  62.66666667,  94.        ,\n",
              "        57.33333333,  65.        ,  74.33333333,  83.        ])"
            ]
          },
          "metadata": {},
          "execution_count": 48
        }
      ],
      "source": [
        "# Ver array de valores dependientes\n",
        "y"
      ]
    },
    {
      "cell_type": "code",
      "execution_count": 49,
      "metadata": {
        "id": "sjbMyU0z_53H"
      },
      "outputs": [],
      "source": [
        "# División entre datos de Entrenamiento y de Testeo\n",
        "\n",
        "from sklearn.model_selection import train_test_split"
      ]
    },
    {
      "cell_type": "code",
      "execution_count": 50,
      "metadata": {
        "id": "Q5W6ngxs_53I"
      },
      "outputs": [],
      "source": [
        "# Se realiza la división con un 75% de datos para train y 25% para test\n",
        "x_train,x_test,y_train,y_test=train_test_split(x,y,test_size=0.25,random_state=0)"
      ]
    },
    {
      "cell_type": "code",
      "execution_count": 51,
      "metadata": {
        "id": "2ldX1c0c_53I"
      },
      "outputs": [],
      "source": [
        "# Seleccionamos como modelo de Regresión para predecir el promedio de notas o average_score al modelo Random Forest de Regresión\n",
        "\n",
        "from sklearn.ensemble import RandomForestRegressor"
      ]
    },
    {
      "cell_type": "code",
      "execution_count": 52,
      "metadata": {
        "id": "yWaB7sQh_53I"
      },
      "outputs": [],
      "source": [
        "# Inicializamos el modelo\n",
        "model=RandomForestRegressor()"
      ]
    },
    {
      "cell_type": "code",
      "execution_count": 53,
      "metadata": {
        "id": "n7WNR0UR_53I",
        "outputId": "d9581de1-910d-4311-9280-3f808f2f735b",
        "colab": {
          "base_uri": "https://localhost:8080/",
          "height": 74
        }
      },
      "outputs": [
        {
          "output_type": "execute_result",
          "data": {
            "text/plain": [
              "RandomForestRegressor()"
            ],
            "text/html": [
              "<style>#sk-container-id-1 {color: black;background-color: white;}#sk-container-id-1 pre{padding: 0;}#sk-container-id-1 div.sk-toggleable {background-color: white;}#sk-container-id-1 label.sk-toggleable__label {cursor: pointer;display: block;width: 100%;margin-bottom: 0;padding: 0.3em;box-sizing: border-box;text-align: center;}#sk-container-id-1 label.sk-toggleable__label-arrow:before {content: \"▸\";float: left;margin-right: 0.25em;color: #696969;}#sk-container-id-1 label.sk-toggleable__label-arrow:hover:before {color: black;}#sk-container-id-1 div.sk-estimator:hover label.sk-toggleable__label-arrow:before {color: black;}#sk-container-id-1 div.sk-toggleable__content {max-height: 0;max-width: 0;overflow: hidden;text-align: left;background-color: #f0f8ff;}#sk-container-id-1 div.sk-toggleable__content pre {margin: 0.2em;color: black;border-radius: 0.25em;background-color: #f0f8ff;}#sk-container-id-1 input.sk-toggleable__control:checked~div.sk-toggleable__content {max-height: 200px;max-width: 100%;overflow: auto;}#sk-container-id-1 input.sk-toggleable__control:checked~label.sk-toggleable__label-arrow:before {content: \"▾\";}#sk-container-id-1 div.sk-estimator input.sk-toggleable__control:checked~label.sk-toggleable__label {background-color: #d4ebff;}#sk-container-id-1 div.sk-label input.sk-toggleable__control:checked~label.sk-toggleable__label {background-color: #d4ebff;}#sk-container-id-1 input.sk-hidden--visually {border: 0;clip: rect(1px 1px 1px 1px);clip: rect(1px, 1px, 1px, 1px);height: 1px;margin: -1px;overflow: hidden;padding: 0;position: absolute;width: 1px;}#sk-container-id-1 div.sk-estimator {font-family: monospace;background-color: #f0f8ff;border: 1px dotted black;border-radius: 0.25em;box-sizing: border-box;margin-bottom: 0.5em;}#sk-container-id-1 div.sk-estimator:hover {background-color: #d4ebff;}#sk-container-id-1 div.sk-parallel-item::after {content: \"\";width: 100%;border-bottom: 1px solid gray;flex-grow: 1;}#sk-container-id-1 div.sk-label:hover label.sk-toggleable__label {background-color: #d4ebff;}#sk-container-id-1 div.sk-serial::before {content: \"\";position: absolute;border-left: 1px solid gray;box-sizing: border-box;top: 0;bottom: 0;left: 50%;z-index: 0;}#sk-container-id-1 div.sk-serial {display: flex;flex-direction: column;align-items: center;background-color: white;padding-right: 0.2em;padding-left: 0.2em;position: relative;}#sk-container-id-1 div.sk-item {position: relative;z-index: 1;}#sk-container-id-1 div.sk-parallel {display: flex;align-items: stretch;justify-content: center;background-color: white;position: relative;}#sk-container-id-1 div.sk-item::before, #sk-container-id-1 div.sk-parallel-item::before {content: \"\";position: absolute;border-left: 1px solid gray;box-sizing: border-box;top: 0;bottom: 0;left: 50%;z-index: -1;}#sk-container-id-1 div.sk-parallel-item {display: flex;flex-direction: column;z-index: 1;position: relative;background-color: white;}#sk-container-id-1 div.sk-parallel-item:first-child::after {align-self: flex-end;width: 50%;}#sk-container-id-1 div.sk-parallel-item:last-child::after {align-self: flex-start;width: 50%;}#sk-container-id-1 div.sk-parallel-item:only-child::after {width: 0;}#sk-container-id-1 div.sk-dashed-wrapped {border: 1px dashed gray;margin: 0 0.4em 0.5em 0.4em;box-sizing: border-box;padding-bottom: 0.4em;background-color: white;}#sk-container-id-1 div.sk-label label {font-family: monospace;font-weight: bold;display: inline-block;line-height: 1.2em;}#sk-container-id-1 div.sk-label-container {text-align: center;}#sk-container-id-1 div.sk-container {/* jupyter's `normalize.less` sets `[hidden] { display: none; }` but bootstrap.min.css set `[hidden] { display: none !important; }` so we also need the `!important` here to be able to override the default hidden behavior on the sphinx rendered scikit-learn.org. See: https://github.com/scikit-learn/scikit-learn/issues/21755 */display: inline-block !important;position: relative;}#sk-container-id-1 div.sk-text-repr-fallback {display: none;}</style><div id=\"sk-container-id-1\" class=\"sk-top-container\"><div class=\"sk-text-repr-fallback\"><pre>RandomForestRegressor()</pre><b>In a Jupyter environment, please rerun this cell to show the HTML representation or trust the notebook. <br />On GitHub, the HTML representation is unable to render, please try loading this page with nbviewer.org.</b></div><div class=\"sk-container\" hidden><div class=\"sk-item\"><div class=\"sk-estimator sk-toggleable\"><input class=\"sk-toggleable__control sk-hidden--visually\" id=\"sk-estimator-id-1\" type=\"checkbox\" checked><label for=\"sk-estimator-id-1\" class=\"sk-toggleable__label sk-toggleable__label-arrow\">RandomForestRegressor</label><div class=\"sk-toggleable__content\"><pre>RandomForestRegressor()</pre></div></div></div></div></div>"
            ]
          },
          "metadata": {},
          "execution_count": 53
        }
      ],
      "source": [
        "# Entrenamos el modelo ajustandolo a los datos de entrenamiento\n",
        "model.fit(x_train,y_train)"
      ]
    },
    {
      "cell_type": "code",
      "execution_count": 54,
      "metadata": {
        "id": "wiz15SzS_53I"
      },
      "outputs": [],
      "source": [
        "# Predicciones:\n",
        "# Se pasa al modelo los datos separados para prueba que no vió en el entrenamiento y se predice el valor del average_score o promedio de notas\n",
        "\n",
        "predictions = model.predict(x_test)"
      ]
    },
    {
      "cell_type": "code",
      "execution_count": 55,
      "metadata": {
        "id": "1pW-05l3_53I",
        "outputId": "4d29cfd5-7799-4c6f-f03c-56aaf1f8b657",
        "colab": {
          "base_uri": "https://localhost:8080/"
        }
      },
      "outputs": [
        {
          "output_type": "execute_result",
          "data": {
            "text/plain": [
              "array([68.98333333, 77.18      , 45.03666667, 68.06666667, 74.22      ,\n",
              "       72.82333333, 70.22333333, 43.61666667, 86.96333333, 37.32666667,\n",
              "       51.68333333, 64.18666667, 81.96666667, 80.91      , 53.99      ,\n",
              "       39.84666667, 53.02333333, 86.30333333, 53.46333333, 79.62666667,\n",
              "       63.05      , 55.45      , 76.43333333, 60.95666667, 47.79      ,\n",
              "       64.55333333, 58.95      , 48.84666667, 62.99333333, 81.78666667,\n",
              "       79.50333333, 88.99666667, 89.31      , 56.31333333, 54.67      ,\n",
              "       83.34      , 97.11333333, 59.10666667, 71.86      , 72.13666667,\n",
              "       68.6       , 56.83      , 70.35333333, 72.13666667, 78.36333333,\n",
              "       58.16333333, 85.16666667, 61.57666667, 83.83      , 58.09      ,\n",
              "       37.69666667, 62.55333333, 49.23      , 57.26333333, 40.04      ,\n",
              "       70.43666667, 52.50333333, 64.62333333, 78.21333333, 60.86666667,\n",
              "       67.69666667, 77.32333333, 50.13      , 71.52333333, 65.75666667,\n",
              "       64.65333333, 71.65333333, 51.55666667, 66.99666667, 55.29      ,\n",
              "       75.42666667, 84.94      , 74.43333333, 65.36333333, 57.4       ,\n",
              "       65.32666667, 72.70333333, 69.70666667, 29.76      , 76.84      ,\n",
              "       78.17      , 85.85      , 68.59666667, 83.69      , 68.01666667,\n",
              "       75.5       , 64.82333333, 91.02333333, 71.02      , 56.66666667,\n",
              "       71.89666667, 61.51333333, 60.94666667, 60.97      , 78.8       ,\n",
              "       71.74      , 52.12666667, 67.82333333, 62.91333333, 64.69333333,\n",
              "       44.10666667, 87.00333333, 63.88666667, 43.70666667, 77.12      ,\n",
              "       75.17333333, 68.63333333, 59.75666667, 55.02      , 85.57333333,\n",
              "       68.17666667, 76.49      , 37.21      , 53.76666667, 67.71      ,\n",
              "       72.02666667, 80.52333333, 77.26666667, 80.82      , 59.31      ,\n",
              "       52.94666667, 78.58666667, 91.6       , 81.05      , 74.72666667,\n",
              "       58.51666667, 73.21333333, 74.59333333, 71.23      , 62.59      ,\n",
              "       65.81      , 66.41333333, 23.05666667, 81.72333333, 83.88333333,\n",
              "       60.58666667, 64.89333333, 64.5       , 68.96333333, 82.37333333,\n",
              "       71.77666667, 66.85666667, 57.02666667, 59.91333333, 76.62      ,\n",
              "       37.59      , 41.89666667, 44.77666667, 80.92333333, 87.35      ,\n",
              "       50.54333333, 72.14333333, 95.41      , 70.07      , 75.47333333,\n",
              "       80.28333333, 51.48      , 55.90666667, 55.28      , 51.88333333,\n",
              "       91.76333333, 50.26333333, 51.85      , 92.45      , 65.05666667,\n",
              "       76.62      , 75.76666667, 69.12333333, 58.66666667, 62.90333333,\n",
              "       57.08333333, 66.27      , 33.49      , 64.97333333, 85.17666667,\n",
              "       68.17      , 68.92333333, 52.44      , 96.26666667, 79.22666667,\n",
              "       65.42333333, 83.02333333, 67.89666667, 67.17333333, 78.66666667,\n",
              "       67.78333333, 96.49      , 99.72666667, 73.26      , 47.51      ,\n",
              "       51.43666667, 60.67666667, 50.40666667, 77.06666667, 58.26333333,\n",
              "       60.88666667, 83.62666667, 81.24333333, 69.48333333, 66.09      ,\n",
              "       75.76      , 78.15666667, 56.89666667, 92.33333333, 68.75      ,\n",
              "       51.2       , 77.89333333, 82.12666667, 73.86666667, 69.63333333,\n",
              "       54.06333333, 91.33      , 57.05      , 63.45333333, 37.54      ,\n",
              "       69.79      , 80.29      , 63.14333333, 56.12666667, 72.18      ,\n",
              "       76.48333333, 66.53      , 61.20333333, 73.04      , 64.06333333,\n",
              "       78.94      , 87.70333333, 60.61666667, 44.05666667, 63.61      ,\n",
              "       44.97      , 63.59666667, 54.53666667, 48.78333333, 59.23333333,\n",
              "       66.20666667, 70.74      , 67.02666667, 69.55      , 58.84333333,\n",
              "       77.21      , 51.53      , 79.67      , 59.00333333, 75.63333333,\n",
              "       72.20333333, 61.60333333, 92.36666667, 62.20333333, 84.77      ])"
            ]
          },
          "metadata": {},
          "execution_count": 55
        }
      ],
      "source": [
        "# Veamos las predicciones\n",
        "predictions"
      ]
    },
    {
      "cell_type": "code",
      "execution_count": 56,
      "metadata": {
        "id": "b0FbMZeV_53R"
      },
      "outputs": [],
      "source": [
        "# Evaluación del modelo:\n",
        "from sklearn.metrics import r2_score\n",
        "from sklearn.metrics import mean_squared_error\n",
        "from math import sqrt"
      ]
    },
    {
      "cell_type": "code",
      "execution_count": 60,
      "metadata": {
        "id": "zO-oRMyR_53S",
        "outputId": "1a46c888-3ce4-4a32-cb26-fc56bb9ba533",
        "colab": {
          "base_uri": "https://localhost:8080/"
        }
      },
      "outputs": [
        {
          "output_type": "execute_result",
          "data": {
            "text/plain": [
              "0.997174318328833"
            ]
          },
          "metadata": {},
          "execution_count": 60
        }
      ],
      "source": [
        "# Visualizar el valor de R2 que es una métrica de evaluación muy importante\n",
        "r2_score(y_test,predictions)\n"
      ]
    },
    {
      "cell_type": "code",
      "source": [
        "\"\"\" Podría parecer un valor demasiado alto y el modelo podría estar sufriendo overfitting, pero en realidad el valor del promedio general es muy simple de predecir disponiendo de las 3 notas que componen el promedio para un modelo de regresión lineal. De todos modos luego haremos un análisis de Validación cruzada para asegurarnos de la veracidad del resultado\"\"\""
      ],
      "metadata": {
        "colab": {
          "base_uri": "https://localhost:8080/",
          "height": 72
        },
        "id": "smGSHjT8mtJZ",
        "outputId": "7034a4d7-abbf-49cd-da68-2939f55402ab"
      },
      "execution_count": 62,
      "outputs": [
        {
          "output_type": "execute_result",
          "data": {
            "text/plain": [
              "' Podría parecer un valor demasiado alto y el modelo podría estar sufriendo overfitting, pero en realidad el valor del promedio general es muy simple de predecir disponiendo de las 3 notas que componen el promedio para un modelo de regresión lineal. De todos modos luego haremos un análisis de Validación cruzada para asegurarnos de la veracidad del resultado'"
            ],
            "application/vnd.google.colaboratory.intrinsic+json": {
              "type": "string"
            }
          },
          "metadata": {},
          "execution_count": 62
        }
      ]
    },
    {
      "cell_type": "code",
      "source": [
        "mse = mean_squared_error(y_test,predictions)"
      ],
      "metadata": {
        "id": "qSJP569QuIzT"
      },
      "execution_count": 63,
      "outputs": []
    },
    {
      "cell_type": "code",
      "source": [
        "rmse = sqrt(mse)"
      ],
      "metadata": {
        "id": "jCrfA_AJvty9"
      },
      "execution_count": 64,
      "outputs": []
    },
    {
      "cell_type": "code",
      "source": [
        "rmse"
      ],
      "metadata": {
        "colab": {
          "base_uri": "https://localhost:8080/"
        },
        "id": "hHSxA93luJKZ",
        "outputId": "6c50066d-b9cd-41be-ef3a-cf4fe240c929"
      },
      "execution_count": 65,
      "outputs": [
        {
          "output_type": "execute_result",
          "data": {
            "text/plain": [
              "0.7395318939857995"
            ]
          },
          "metadata": {},
          "execution_count": 65
        }
      ]
    },
    {
      "cell_type": "code",
      "source": [
        "\"\"\" Este valor de rmse implica que el error en el promedio calculado por alumno puede tener un error promedio de solo 0.7 puntos en 100. Por lo que la precisión es altísima.\"\"\""
      ],
      "metadata": {
        "colab": {
          "base_uri": "https://localhost:8080/",
          "height": 54
        },
        "id": "XCCjRXb5uJcc",
        "outputId": "82a71715-9405-41e3-9903-236f2e6a5c3b"
      },
      "execution_count": 66,
      "outputs": [
        {
          "output_type": "execute_result",
          "data": {
            "text/plain": [
              "' Este valor de rmse implica que el error en el promedio calculado por alumno puede tener un error promedio de solo 0.7 puntos en 100. Por lo que la precisión es altísima.'"
            ],
            "application/vnd.google.colaboratory.intrinsic+json": {
              "type": "string"
            }
          },
          "metadata": {},
          "execution_count": 66
        }
      ]
    },
    {
      "cell_type": "code",
      "source": [
        "\n",
        "#y_test = np.array([70, 85, 78, 92, 88, 76, 84, 90])\n",
        "# Predictions = np.array([68, 84, 80, 89, 87, 75, 82, 91])\n",
        "\n",
        "plt.figure(figsize=(10, 8))\n",
        "plt.scatter(y_test, predictions, c='blue', label='Predictions vs Actual')\n",
        "plt.xlabel('Promedio General Real')\n",
        "plt.ylabel('Promedio General Predicho por el modelo')\n",
        "\n",
        "max_value = max(max(y_test), max(predictions))\n",
        "min_value = min(min(y_test), min(predictions))\n",
        "plt.plot([min_value, max_value], [min_value, max_value], 'r--', label='45-degree line')\n",
        "\n",
        "# Add title and legend\n",
        "plt.title('Predicciones de Modelo de Regresión Random Forest vs Valores reales')\n",
        "plt.legend()\n",
        "\n",
        "plt.show()\n"
      ],
      "metadata": {
        "colab": {
          "base_uri": "https://localhost:8080/",
          "height": 719
        },
        "id": "t902MSneuJsF",
        "outputId": "0143d130-94d2-4030-9d49-99f75179077a"
      },
      "execution_count": 67,
      "outputs": [
        {
          "output_type": "display_data",
          "data": {
            "text/plain": [
              "<Figure size 1000x800 with 1 Axes>"
            ],
            "image/png": "[encoded data removed]"
          },
          "metadata": {}
        }
      ]
    },
    {
      "cell_type": "code",
      "source": [
        "# Luego de analizar los resultados del modelo, se procede a realizar una verificación del modelo por medio de un Cross Validation"
      ],
      "metadata": {
        "id": "SFzBqEr2uJ6M"
      },
      "execution_count": 68,
      "outputs": []
    },
    {
      "cell_type": "code",
      "source": [
        "\"\"\" Validación Cruzada:\"\"\""
      ],
      "metadata": {
        "colab": {
          "base_uri": "https://localhost:8080/",
          "height": 36
        },
        "id": "i0aG7urc_qBm",
        "outputId": "a972399b-4c12-49d3-86f3-54efee12dae5"
      },
      "execution_count": 69,
      "outputs": [
        {
          "output_type": "execute_result",
          "data": {
            "text/plain": [
              "' Validación Cruzada:'"
            ],
            "application/vnd.google.colaboratory.intrinsic+json": {
              "type": "string"
            }
          },
          "metadata": {},
          "execution_count": 69
        }
      ]
    },
    {
      "cell_type": "code",
      "source": [
        "# Importing necessary libraries for K-Folds Cross-Validation\n",
        "from sklearn.ensemble import RandomForestRegressor\n",
        "from sklearn.model_selection import cross_val_score\n",
        "import numpy as np\n",
        "\n",
        "\n",
        "rf = RandomForestRegressor(n_estimators=100, random_state=42)\n",
        "\n",
        "# Se realiza una validación cruzada con k pliegues en este caso elegimos k= 5 pliegues en todo el conjunto de datos x e y\n",
        "cv_scores = cross_val_score(rf, x, y, cv=5, scoring='r2')\n",
        "\n",
        "# Calculate the mean and standard deviation of the cross-validation scores\n",
        "cv_mean = np.mean(cv_scores)\n",
        "cv_std = np.std(cv_scores)\n",
        "\n",
        "cv_mean, cv_std\n"
      ],
      "metadata": {
        "colab": {
          "base_uri": "https://localhost:8080/"
        },
        "id": "79PIXUq3_qXC",
        "outputId": "14b70945-9a95-48e1-cefa-1a964bdc9fad"
      },
      "execution_count": 70,
      "outputs": [
        {
          "output_type": "execute_result",
          "data": {
            "text/plain": [
              "(0.9965566511923585, 0.0010454876567431808)"
            ]
          },
          "metadata": {},
          "execution_count": 70
        }
      ]
    },
    {
      "cell_type": "code",
      "source": [],
      "metadata": {
        "id": "IjSJvdwpBTma"
      },
      "execution_count": 70,
      "outputs": []
    },
    {
      "cell_type": "code",
      "source": [
        "\"\"\"CONCLUSION:\n",
        "El modelo de regresión da un valor muy alto de r2 pero luego, la hacer una validación cruzada y obtener un valor igualmente alto y cercano a 1, esto implica que en todo el conjunto de datos el modelo se comporta excepcionalmente bien y no tiene overfitting; de lo cual que el modelo arroja resultados muy precisos por la simlicidad de su valor a predecir.\"\"\""
      ],
      "metadata": {
        "colab": {
          "base_uri": "https://localhost:8080/",
          "height": 72
        },
        "id": "1VIZXQByMGqS",
        "outputId": "23b3a2cb-79b6-4e8c-9870-5d421ee561cd"
      },
      "execution_count": 71,
      "outputs": [
        {
          "output_type": "execute_result",
          "data": {
            "text/plain": [
              "'CONCLUSION:\\nEl modelo de regresión da un valor muy alto de r2 pero luego, la hacer una validación cruzada y obtener un valor igualmente alto y cercano a 1, esto implica que en todo el conjunto de datos el modelo se comporta excepcionalmente bien y no tiene overfitting; de lo cual que el modelo arroja resultados muy precisos por la simlicidad de su valor a predecir.'"
            ],
            "application/vnd.google.colaboratory.intrinsic+json": {
              "type": "string"
            }
          },
          "metadata": {},
          "execution_count": 71
        }
      ]
    },
    {
      "cell_type": "code",
      "source": [],
      "metadata": {
        "id": "YGYsPe6cMHGN"
      },
      "execution_count": null,
      "outputs": []
    },
    {
      "cell_type": "code",
      "source": [
        "# Guardar el modelo en formato pickle para ser reutilizado cuando se desee"
      ],
      "metadata": {
        "id": "9Hmc9_1fuKRh"
      },
      "execution_count": 72,
      "outputs": []
    },
    {
      "cell_type": "code",
      "execution_count": 84,
      "metadata": {
        "id": "cusamESC_53S"
      },
      "outputs": [],
      "source": [
        "import pickle\n",
        "pickle.dump(model,open('students_model.pkl','wb'))"
      ]
    },
    {
      "cell_type": "code",
      "execution_count": null,
      "metadata": {
        "id": "I4kWv2f0_53S"
      },
      "outputs": [],
      "source": []
    }
  ],
  "metadata": {
    "kernelspec": {
      "display_name": "Python 3",
      "language": "python",
      "name": "python3"
    },
    "language_info": {
      "codemirror_mode": {
        "name": "ipython",
        "version": 3
      },
      "file_extension": ".py",
      "mimetype": "text/x-python",
      "name": "python",
      "nbconvert_exporter": "python",
      "pygments_lexer": "ipython3",
      "version": "3.8.5"
    },
    "colab": {
      "provenance": []
    }
  },
  "nbformat": 4,
  "nbformat_minor": 0
}